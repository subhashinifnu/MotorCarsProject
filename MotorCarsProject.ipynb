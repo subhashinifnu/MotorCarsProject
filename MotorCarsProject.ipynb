{
 "cells": [
  {
   "cell_type": "code",
   "execution_count": 54,
   "id": "7f5b4d25",
   "metadata": {
    "scrolled": true
   },
   "outputs": [],
   "source": [
    "import pandas as pd\n",
    "df = pd.read_csv(\"C:/Users/Subhashini/SubhaGitJuputer/TableuEx1/MotorCar/Motorcars1.csv\", encoding='latin1')"
   ]
  },
  {
   "cell_type": "code",
   "execution_count": 55,
   "id": "ad2d5484",
   "metadata": {},
   "outputs": [
    {
     "data": {
      "text/html": [
       "<div>\n",
       "<style scoped>\n",
       "    .dataframe tbody tr th:only-of-type {\n",
       "        vertical-align: middle;\n",
       "    }\n",
       "\n",
       "    .dataframe tbody tr th {\n",
       "        vertical-align: top;\n",
       "    }\n",
       "\n",
       "    .dataframe thead th {\n",
       "        text-align: right;\n",
       "    }\n",
       "</style>\n",
       "<table border=\"1\" class=\"dataframe\">\n",
       "  <thead>\n",
       "    <tr style=\"text-align: right;\">\n",
       "      <th></th>\n",
       "      <th>InvoiceDate</th>\n",
       "      <th>Make</th>\n",
       "      <th>CountryName</th>\n",
       "      <th>SalePrice</th>\n",
       "      <th>CostPrice</th>\n",
       "      <th>TotalDiscount</th>\n",
       "      <th>DeliveryCharge</th>\n",
       "      <th>SpareParts</th>\n",
       "      <th>LaborCost</th>\n",
       "      <th>ClientName</th>\n",
       "      <th>Model</th>\n",
       "      <th>Color</th>\n",
       "      <th>ReportingYear</th>\n",
       "      <th>ReportingMonth</th>\n",
       "      <th>Registration_Date</th>\n",
       "      <th>VehicleType</th>\n",
       "    </tr>\n",
       "  </thead>\n",
       "  <tbody>\n",
       "    <tr>\n",
       "      <th>0</th>\n",
       "      <td>2-Dec-13</td>\n",
       "      <td>Aston Martin</td>\n",
       "      <td>United Kingdom</td>\n",
       "      <td>110000</td>\n",
       "      <td>125000</td>\n",
       "      <td>0.0</td>\n",
       "      <td>1750</td>\n",
       "      <td>1950</td>\n",
       "      <td>752</td>\n",
       "      <td>Cut'n'Shut</td>\n",
       "      <td>Vanquish</td>\n",
       "      <td>Red</td>\n",
       "      <td>2013</td>\n",
       "      <td>12</td>\n",
       "      <td>1-Sep-01</td>\n",
       "      <td>Coupe</td>\n",
       "    </tr>\n",
       "    <tr>\n",
       "      <th>1</th>\n",
       "      <td>1-Jan-12</td>\n",
       "      <td>Jaguar</td>\n",
       "      <td>USA</td>\n",
       "      <td>44000</td>\n",
       "      <td>25000</td>\n",
       "      <td>500.0</td>\n",
       "      <td>450</td>\n",
       "      <td>1950</td>\n",
       "      <td>486</td>\n",
       "      <td>Rocky Riding</td>\n",
       "      <td>XK</td>\n",
       "      <td>Dark Purple</td>\n",
       "      <td>2012</td>\n",
       "      <td>1</td>\n",
       "      <td>1-Sep-00</td>\n",
       "      <td>Coupe</td>\n",
       "    </tr>\n",
       "    <tr>\n",
       "      <th>2</th>\n",
       "      <td>1-Feb-12</td>\n",
       "      <td>Jaguar</td>\n",
       "      <td>USA</td>\n",
       "      <td>45000</td>\n",
       "      <td>37500</td>\n",
       "      <td>500.0</td>\n",
       "      <td>450</td>\n",
       "      <td>1950</td>\n",
       "      <td>486</td>\n",
       "      <td>Rocky Riding</td>\n",
       "      <td>XJ6</td>\n",
       "      <td>British Racing Green</td>\n",
       "      <td>2012</td>\n",
       "      <td>2</td>\n",
       "      <td>1-Sep-00</td>\n",
       "      <td>Saloon</td>\n",
       "    </tr>\n",
       "    <tr>\n",
       "      <th>3</th>\n",
       "      <td>1-Mar-12</td>\n",
       "      <td>Jaguar</td>\n",
       "      <td>Switzerland</td>\n",
       "      <td>39500</td>\n",
       "      <td>25000</td>\n",
       "      <td>500.0</td>\n",
       "      <td>0</td>\n",
       "      <td>1950</td>\n",
       "      <td>486</td>\n",
       "      <td>Voitures Diplomatiques S.A.</td>\n",
       "      <td>XJ12</td>\n",
       "      <td>Black</td>\n",
       "      <td>2012</td>\n",
       "      <td>3</td>\n",
       "      <td>1-Sep-00</td>\n",
       "      <td>Saloon</td>\n",
       "    </tr>\n",
       "    <tr>\n",
       "      <th>4</th>\n",
       "      <td>1-Apr-12</td>\n",
       "      <td>Jaguar</td>\n",
       "      <td>France</td>\n",
       "      <td>44000</td>\n",
       "      <td>37500</td>\n",
       "      <td>500.0</td>\n",
       "      <td>500</td>\n",
       "      <td>1950</td>\n",
       "      <td>486</td>\n",
       "      <td>Les Arnaqueurs</td>\n",
       "      <td>XK</td>\n",
       "      <td>Canary Yellow</td>\n",
       "      <td>2012</td>\n",
       "      <td>4</td>\n",
       "      <td>1-Sep-00</td>\n",
       "      <td>Coupe</td>\n",
       "    </tr>\n",
       "  </tbody>\n",
       "</table>\n",
       "</div>"
      ],
      "text/plain": [
       "  InvoiceDate          Make     CountryName  SalePrice  CostPrice  \\\n",
       "0    2-Dec-13  Aston Martin  United Kingdom     110000     125000   \n",
       "1    1-Jan-12        Jaguar             USA      44000      25000   \n",
       "2    1-Feb-12        Jaguar             USA      45000      37500   \n",
       "3    1-Mar-12        Jaguar     Switzerland      39500      25000   \n",
       "4    1-Apr-12        Jaguar          France      44000      37500   \n",
       "\n",
       "   TotalDiscount  DeliveryCharge  SpareParts  LaborCost  \\\n",
       "0            0.0            1750        1950        752   \n",
       "1          500.0             450        1950        486   \n",
       "2          500.0             450        1950        486   \n",
       "3          500.0               0        1950        486   \n",
       "4          500.0             500        1950        486   \n",
       "\n",
       "                    ClientName     Model                 Color  ReportingYear  \\\n",
       "0                   Cut'n'Shut  Vanquish                   Red           2013   \n",
       "1                 Rocky Riding        XK           Dark Purple           2012   \n",
       "2                 Rocky Riding       XJ6  British Racing Green           2012   \n",
       "3  Voitures Diplomatiques S.A.      XJ12                 Black           2012   \n",
       "4               Les Arnaqueurs        XK         Canary Yellow           2012   \n",
       "\n",
       "   ReportingMonth Registration_Date VehicleType  \n",
       "0              12          1-Sep-01       Coupe  \n",
       "1               1          1-Sep-00       Coupe  \n",
       "2               2          1-Sep-00      Saloon  \n",
       "3               3          1-Sep-00      Saloon  \n",
       "4               4          1-Sep-00       Coupe  "
      ]
     },
     "execution_count": 55,
     "metadata": {},
     "output_type": "execute_result"
    }
   ],
   "source": [
    "df.head()"
   ]
  },
  {
   "cell_type": "code",
   "execution_count": 59,
   "id": "a7435327",
   "metadata": {},
   "outputs": [
    {
     "data": {
      "text/html": [
       "        <script type=\"text/javascript\">\n",
       "        window.PlotlyConfig = {MathJaxConfig: 'local'};\n",
       "        if (window.MathJax && window.MathJax.Hub && window.MathJax.Hub.Config) {window.MathJax.Hub.Config({SVG: {font: \"STIX-Web\"}});}\n",
       "        if (typeof require !== 'undefined') {\n",
       "        require.undef(\"plotly\");\n",
       "        requirejs.config({\n",
       "            paths: {\n",
       "                'plotly': ['https://cdn.plot.ly/plotly-2.12.1.min']\n",
       "            }\n",
       "        });\n",
       "        require(['plotly'], function(Plotly) {\n",
       "            window._Plotly = Plotly;\n",
       "        });\n",
       "        }\n",
       "        </script>\n",
       "        "
      ]
     },
     "metadata": {},
     "output_type": "display_data"
    }
   ],
   "source": [
    "# Visulization imports\n",
    "import matplotlib.pyplot as plt\n",
    "import seaborn as sns\n",
    "color = sns.color_palette()\n",
    "get_ipython().run_line_magic('matplotlib', 'inline')\n",
    "import plotly.offline as py\n",
    "py.init_notebook_mode(connected = True)\n",
    "import plotly.graph_objects as go\n",
    "import plotly.tools as tls\n",
    "import plotly.express as px\n",
    "import numpy as np"
   ]
  },
  {
   "cell_type": "code",
   "execution_count": 64,
   "id": "93ecd42e",
   "metadata": {
    "scrolled": false
   },
   "outputs": [
    {
     "data": {
      "application/vnd.plotly.v1+json": {
       "config": {
        "plotlyServerURL": "https://plot.ly"
       },
       "data": [
        {
         "labels": [
          "United Kingdom",
          "USA",
          "France",
          "Switzerland",
          "Spain",
          "Germany"
         ],
         "marker": {
          "colors": [
           "mediumturquoise",
           "darkblue"
          ],
          "line": {
           "color": "#000000",
           "width": 2
          }
         },
         "type": "pie",
         "values": [
          215,
          166,
          40,
          26,
          6,
          4
         ]
        }
       ],
       "layout": {
        "template": {
         "data": {
          "bar": [
           {
            "error_x": {
             "color": "#2a3f5f"
            },
            "error_y": {
             "color": "#2a3f5f"
            },
            "marker": {
             "line": {
              "color": "#E5ECF6",
              "width": 0.5
             },
             "pattern": {
              "fillmode": "overlay",
              "size": 10,
              "solidity": 0.2
             }
            },
            "type": "bar"
           }
          ],
          "barpolar": [
           {
            "marker": {
             "line": {
              "color": "#E5ECF6",
              "width": 0.5
             },
             "pattern": {
              "fillmode": "overlay",
              "size": 10,
              "solidity": 0.2
             }
            },
            "type": "barpolar"
           }
          ],
          "carpet": [
           {
            "aaxis": {
             "endlinecolor": "#2a3f5f",
             "gridcolor": "white",
             "linecolor": "white",
             "minorgridcolor": "white",
             "startlinecolor": "#2a3f5f"
            },
            "baxis": {
             "endlinecolor": "#2a3f5f",
             "gridcolor": "white",
             "linecolor": "white",
             "minorgridcolor": "white",
             "startlinecolor": "#2a3f5f"
            },
            "type": "carpet"
           }
          ],
          "choropleth": [
           {
            "colorbar": {
             "outlinewidth": 0,
             "ticks": ""
            },
            "type": "choropleth"
           }
          ],
          "contour": [
           {
            "colorbar": {
             "outlinewidth": 0,
             "ticks": ""
            },
            "colorscale": [
             [
              0,
              "#0d0887"
             ],
             [
              0.1111111111111111,
              "#46039f"
             ],
             [
              0.2222222222222222,
              "#7201a8"
             ],
             [
              0.3333333333333333,
              "#9c179e"
             ],
             [
              0.4444444444444444,
              "#bd3786"
             ],
             [
              0.5555555555555556,
              "#d8576b"
             ],
             [
              0.6666666666666666,
              "#ed7953"
             ],
             [
              0.7777777777777778,
              "#fb9f3a"
             ],
             [
              0.8888888888888888,
              "#fdca26"
             ],
             [
              1,
              "#f0f921"
             ]
            ],
            "type": "contour"
           }
          ],
          "contourcarpet": [
           {
            "colorbar": {
             "outlinewidth": 0,
             "ticks": ""
            },
            "type": "contourcarpet"
           }
          ],
          "heatmap": [
           {
            "colorbar": {
             "outlinewidth": 0,
             "ticks": ""
            },
            "colorscale": [
             [
              0,
              "#0d0887"
             ],
             [
              0.1111111111111111,
              "#46039f"
             ],
             [
              0.2222222222222222,
              "#7201a8"
             ],
             [
              0.3333333333333333,
              "#9c179e"
             ],
             [
              0.4444444444444444,
              "#bd3786"
             ],
             [
              0.5555555555555556,
              "#d8576b"
             ],
             [
              0.6666666666666666,
              "#ed7953"
             ],
             [
              0.7777777777777778,
              "#fb9f3a"
             ],
             [
              0.8888888888888888,
              "#fdca26"
             ],
             [
              1,
              "#f0f921"
             ]
            ],
            "type": "heatmap"
           }
          ],
          "heatmapgl": [
           {
            "colorbar": {
             "outlinewidth": 0,
             "ticks": ""
            },
            "colorscale": [
             [
              0,
              "#0d0887"
             ],
             [
              0.1111111111111111,
              "#46039f"
             ],
             [
              0.2222222222222222,
              "#7201a8"
             ],
             [
              0.3333333333333333,
              "#9c179e"
             ],
             [
              0.4444444444444444,
              "#bd3786"
             ],
             [
              0.5555555555555556,
              "#d8576b"
             ],
             [
              0.6666666666666666,
              "#ed7953"
             ],
             [
              0.7777777777777778,
              "#fb9f3a"
             ],
             [
              0.8888888888888888,
              "#fdca26"
             ],
             [
              1,
              "#f0f921"
             ]
            ],
            "type": "heatmapgl"
           }
          ],
          "histogram": [
           {
            "marker": {
             "pattern": {
              "fillmode": "overlay",
              "size": 10,
              "solidity": 0.2
             }
            },
            "type": "histogram"
           }
          ],
          "histogram2d": [
           {
            "colorbar": {
             "outlinewidth": 0,
             "ticks": ""
            },
            "colorscale": [
             [
              0,
              "#0d0887"
             ],
             [
              0.1111111111111111,
              "#46039f"
             ],
             [
              0.2222222222222222,
              "#7201a8"
             ],
             [
              0.3333333333333333,
              "#9c179e"
             ],
             [
              0.4444444444444444,
              "#bd3786"
             ],
             [
              0.5555555555555556,
              "#d8576b"
             ],
             [
              0.6666666666666666,
              "#ed7953"
             ],
             [
              0.7777777777777778,
              "#fb9f3a"
             ],
             [
              0.8888888888888888,
              "#fdca26"
             ],
             [
              1,
              "#f0f921"
             ]
            ],
            "type": "histogram2d"
           }
          ],
          "histogram2dcontour": [
           {
            "colorbar": {
             "outlinewidth": 0,
             "ticks": ""
            },
            "colorscale": [
             [
              0,
              "#0d0887"
             ],
             [
              0.1111111111111111,
              "#46039f"
             ],
             [
              0.2222222222222222,
              "#7201a8"
             ],
             [
              0.3333333333333333,
              "#9c179e"
             ],
             [
              0.4444444444444444,
              "#bd3786"
             ],
             [
              0.5555555555555556,
              "#d8576b"
             ],
             [
              0.6666666666666666,
              "#ed7953"
             ],
             [
              0.7777777777777778,
              "#fb9f3a"
             ],
             [
              0.8888888888888888,
              "#fdca26"
             ],
             [
              1,
              "#f0f921"
             ]
            ],
            "type": "histogram2dcontour"
           }
          ],
          "mesh3d": [
           {
            "colorbar": {
             "outlinewidth": 0,
             "ticks": ""
            },
            "type": "mesh3d"
           }
          ],
          "parcoords": [
           {
            "line": {
             "colorbar": {
              "outlinewidth": 0,
              "ticks": ""
             }
            },
            "type": "parcoords"
           }
          ],
          "pie": [
           {
            "automargin": true,
            "type": "pie"
           }
          ],
          "scatter": [
           {
            "fillpattern": {
             "fillmode": "overlay",
             "size": 10,
             "solidity": 0.2
            },
            "type": "scatter"
           }
          ],
          "scatter3d": [
           {
            "line": {
             "colorbar": {
              "outlinewidth": 0,
              "ticks": ""
             }
            },
            "marker": {
             "colorbar": {
              "outlinewidth": 0,
              "ticks": ""
             }
            },
            "type": "scatter3d"
           }
          ],
          "scattercarpet": [
           {
            "marker": {
             "colorbar": {
              "outlinewidth": 0,
              "ticks": ""
             }
            },
            "type": "scattercarpet"
           }
          ],
          "scattergeo": [
           {
            "marker": {
             "colorbar": {
              "outlinewidth": 0,
              "ticks": ""
             }
            },
            "type": "scattergeo"
           }
          ],
          "scattergl": [
           {
            "marker": {
             "colorbar": {
              "outlinewidth": 0,
              "ticks": ""
             }
            },
            "type": "scattergl"
           }
          ],
          "scattermapbox": [
           {
            "marker": {
             "colorbar": {
              "outlinewidth": 0,
              "ticks": ""
             }
            },
            "type": "scattermapbox"
           }
          ],
          "scatterpolar": [
           {
            "marker": {
             "colorbar": {
              "outlinewidth": 0,
              "ticks": ""
             }
            },
            "type": "scatterpolar"
           }
          ],
          "scatterpolargl": [
           {
            "marker": {
             "colorbar": {
              "outlinewidth": 0,
              "ticks": ""
             }
            },
            "type": "scatterpolargl"
           }
          ],
          "scatterternary": [
           {
            "marker": {
             "colorbar": {
              "outlinewidth": 0,
              "ticks": ""
             }
            },
            "type": "scatterternary"
           }
          ],
          "surface": [
           {
            "colorbar": {
             "outlinewidth": 0,
             "ticks": ""
            },
            "colorscale": [
             [
              0,
              "#0d0887"
             ],
             [
              0.1111111111111111,
              "#46039f"
             ],
             [
              0.2222222222222222,
              "#7201a8"
             ],
             [
              0.3333333333333333,
              "#9c179e"
             ],
             [
              0.4444444444444444,
              "#bd3786"
             ],
             [
              0.5555555555555556,
              "#d8576b"
             ],
             [
              0.6666666666666666,
              "#ed7953"
             ],
             [
              0.7777777777777778,
              "#fb9f3a"
             ],
             [
              0.8888888888888888,
              "#fdca26"
             ],
             [
              1,
              "#f0f921"
             ]
            ],
            "type": "surface"
           }
          ],
          "table": [
           {
            "cells": {
             "fill": {
              "color": "#EBF0F8"
             },
             "line": {
              "color": "white"
             }
            },
            "header": {
             "fill": {
              "color": "#C8D4E3"
             },
             "line": {
              "color": "white"
             }
            },
            "type": "table"
           }
          ]
         },
         "layout": {
          "annotationdefaults": {
           "arrowcolor": "#2a3f5f",
           "arrowhead": 0,
           "arrowwidth": 1
          },
          "autotypenumbers": "strict",
          "coloraxis": {
           "colorbar": {
            "outlinewidth": 0,
            "ticks": ""
           }
          },
          "colorscale": {
           "diverging": [
            [
             0,
             "#8e0152"
            ],
            [
             0.1,
             "#c51b7d"
            ],
            [
             0.2,
             "#de77ae"
            ],
            [
             0.3,
             "#f1b6da"
            ],
            [
             0.4,
             "#fde0ef"
            ],
            [
             0.5,
             "#f7f7f7"
            ],
            [
             0.6,
             "#e6f5d0"
            ],
            [
             0.7,
             "#b8e186"
            ],
            [
             0.8,
             "#7fbc41"
            ],
            [
             0.9,
             "#4d9221"
            ],
            [
             1,
             "#276419"
            ]
           ],
           "sequential": [
            [
             0,
             "#0d0887"
            ],
            [
             0.1111111111111111,
             "#46039f"
            ],
            [
             0.2222222222222222,
             "#7201a8"
            ],
            [
             0.3333333333333333,
             "#9c179e"
            ],
            [
             0.4444444444444444,
             "#bd3786"
            ],
            [
             0.5555555555555556,
             "#d8576b"
            ],
            [
             0.6666666666666666,
             "#ed7953"
            ],
            [
             0.7777777777777778,
             "#fb9f3a"
            ],
            [
             0.8888888888888888,
             "#fdca26"
            ],
            [
             1,
             "#f0f921"
            ]
           ],
           "sequentialminus": [
            [
             0,
             "#0d0887"
            ],
            [
             0.1111111111111111,
             "#46039f"
            ],
            [
             0.2222222222222222,
             "#7201a8"
            ],
            [
             0.3333333333333333,
             "#9c179e"
            ],
            [
             0.4444444444444444,
             "#bd3786"
            ],
            [
             0.5555555555555556,
             "#d8576b"
            ],
            [
             0.6666666666666666,
             "#ed7953"
            ],
            [
             0.7777777777777778,
             "#fb9f3a"
            ],
            [
             0.8888888888888888,
             "#fdca26"
            ],
            [
             1,
             "#f0f921"
            ]
           ]
          },
          "colorway": [
           "#636efa",
           "#EF553B",
           "#00cc96",
           "#ab63fa",
           "#FFA15A",
           "#19d3f3",
           "#FF6692",
           "#B6E880",
           "#FF97FF",
           "#FECB52"
          ],
          "font": {
           "color": "#2a3f5f"
          },
          "geo": {
           "bgcolor": "white",
           "lakecolor": "white",
           "landcolor": "#E5ECF6",
           "showlakes": true,
           "showland": true,
           "subunitcolor": "white"
          },
          "hoverlabel": {
           "align": "left"
          },
          "hovermode": "closest",
          "mapbox": {
           "style": "light"
          },
          "paper_bgcolor": "white",
          "plot_bgcolor": "#E5ECF6",
          "polar": {
           "angularaxis": {
            "gridcolor": "white",
            "linecolor": "white",
            "ticks": ""
           },
           "bgcolor": "#E5ECF6",
           "radialaxis": {
            "gridcolor": "white",
            "linecolor": "white",
            "ticks": ""
           }
          },
          "scene": {
           "xaxis": {
            "backgroundcolor": "#E5ECF6",
            "gridcolor": "white",
            "gridwidth": 2,
            "linecolor": "white",
            "showbackground": true,
            "ticks": "",
            "zerolinecolor": "white"
           },
           "yaxis": {
            "backgroundcolor": "#E5ECF6",
            "gridcolor": "white",
            "gridwidth": 2,
            "linecolor": "white",
            "showbackground": true,
            "ticks": "",
            "zerolinecolor": "white"
           },
           "zaxis": {
            "backgroundcolor": "#E5ECF6",
            "gridcolor": "white",
            "gridwidth": 2,
            "linecolor": "white",
            "showbackground": true,
            "ticks": "",
            "zerolinecolor": "white"
           }
          },
          "shapedefaults": {
           "line": {
            "color": "#2a3f5f"
           }
          },
          "ternary": {
           "aaxis": {
            "gridcolor": "white",
            "linecolor": "white",
            "ticks": ""
           },
           "baxis": {
            "gridcolor": "white",
            "linecolor": "white",
            "ticks": ""
           },
           "bgcolor": "#E5ECF6",
           "caxis": {
            "gridcolor": "white",
            "linecolor": "white",
            "ticks": ""
           }
          },
          "title": {
           "x": 0.05
          },
          "xaxis": {
           "automargin": true,
           "gridcolor": "white",
           "linecolor": "white",
           "ticks": "",
           "title": {
            "standoff": 15
           },
           "zerolinecolor": "white",
           "zerolinewidth": 2
          },
          "yaxis": {
           "automargin": true,
           "gridcolor": "white",
           "linecolor": "white",
           "ticks": "",
           "title": {
            "standoff": 15
           },
           "zerolinecolor": "white",
           "zerolinewidth": 2
          }
         }
        },
        "title": {
         "text": "Motorcars CountryName"
        }
       }
      },
      "text/html": [
       "<div>                            <div id=\"c7081711-6c73-4548-aaeb-f063b98a4a0e\" class=\"plotly-graph-div\" style=\"height:525px; width:100%;\"></div>            <script type=\"text/javascript\">                require([\"plotly\"], function(Plotly) {                    window.PLOTLYENV=window.PLOTLYENV || {};                                    if (document.getElementById(\"c7081711-6c73-4548-aaeb-f063b98a4a0e\")) {                    Plotly.newPlot(                        \"c7081711-6c73-4548-aaeb-f063b98a4a0e\",                        [{\"labels\":[\"United Kingdom\",\"USA\",\"France\",\"Switzerland\",\"Spain\",\"Germany\"],\"values\":[215,166,40,26,6,4],\"type\":\"pie\",\"marker\":{\"line\":{\"color\":\"#000000\",\"width\":2},\"colors\":[\"mediumturquoise\",\"darkblue\"]}}],                        {\"title\":{\"text\":\"Motorcars CountryName\"},\"template\":{\"data\":{\"histogram2dcontour\":[{\"type\":\"histogram2dcontour\",\"colorbar\":{\"outlinewidth\":0,\"ticks\":\"\"},\"colorscale\":[[0.0,\"#0d0887\"],[0.1111111111111111,\"#46039f\"],[0.2222222222222222,\"#7201a8\"],[0.3333333333333333,\"#9c179e\"],[0.4444444444444444,\"#bd3786\"],[0.5555555555555556,\"#d8576b\"],[0.6666666666666666,\"#ed7953\"],[0.7777777777777778,\"#fb9f3a\"],[0.8888888888888888,\"#fdca26\"],[1.0,\"#f0f921\"]]}],\"choropleth\":[{\"type\":\"choropleth\",\"colorbar\":{\"outlinewidth\":0,\"ticks\":\"\"}}],\"histogram2d\":[{\"type\":\"histogram2d\",\"colorbar\":{\"outlinewidth\":0,\"ticks\":\"\"},\"colorscale\":[[0.0,\"#0d0887\"],[0.1111111111111111,\"#46039f\"],[0.2222222222222222,\"#7201a8\"],[0.3333333333333333,\"#9c179e\"],[0.4444444444444444,\"#bd3786\"],[0.5555555555555556,\"#d8576b\"],[0.6666666666666666,\"#ed7953\"],[0.7777777777777778,\"#fb9f3a\"],[0.8888888888888888,\"#fdca26\"],[1.0,\"#f0f921\"]]}],\"heatmap\":[{\"type\":\"heatmap\",\"colorbar\":{\"outlinewidth\":0,\"ticks\":\"\"},\"colorscale\":[[0.0,\"#0d0887\"],[0.1111111111111111,\"#46039f\"],[0.2222222222222222,\"#7201a8\"],[0.3333333333333333,\"#9c179e\"],[0.4444444444444444,\"#bd3786\"],[0.5555555555555556,\"#d8576b\"],[0.6666666666666666,\"#ed7953\"],[0.7777777777777778,\"#fb9f3a\"],[0.8888888888888888,\"#fdca26\"],[1.0,\"#f0f921\"]]}],\"heatmapgl\":[{\"type\":\"heatmapgl\",\"colorbar\":{\"outlinewidth\":0,\"ticks\":\"\"},\"colorscale\":[[0.0,\"#0d0887\"],[0.1111111111111111,\"#46039f\"],[0.2222222222222222,\"#7201a8\"],[0.3333333333333333,\"#9c179e\"],[0.4444444444444444,\"#bd3786\"],[0.5555555555555556,\"#d8576b\"],[0.6666666666666666,\"#ed7953\"],[0.7777777777777778,\"#fb9f3a\"],[0.8888888888888888,\"#fdca26\"],[1.0,\"#f0f921\"]]}],\"contourcarpet\":[{\"type\":\"contourcarpet\",\"colorbar\":{\"outlinewidth\":0,\"ticks\":\"\"}}],\"contour\":[{\"type\":\"contour\",\"colorbar\":{\"outlinewidth\":0,\"ticks\":\"\"},\"colorscale\":[[0.0,\"#0d0887\"],[0.1111111111111111,\"#46039f\"],[0.2222222222222222,\"#7201a8\"],[0.3333333333333333,\"#9c179e\"],[0.4444444444444444,\"#bd3786\"],[0.5555555555555556,\"#d8576b\"],[0.6666666666666666,\"#ed7953\"],[0.7777777777777778,\"#fb9f3a\"],[0.8888888888888888,\"#fdca26\"],[1.0,\"#f0f921\"]]}],\"surface\":[{\"type\":\"surface\",\"colorbar\":{\"outlinewidth\":0,\"ticks\":\"\"},\"colorscale\":[[0.0,\"#0d0887\"],[0.1111111111111111,\"#46039f\"],[0.2222222222222222,\"#7201a8\"],[0.3333333333333333,\"#9c179e\"],[0.4444444444444444,\"#bd3786\"],[0.5555555555555556,\"#d8576b\"],[0.6666666666666666,\"#ed7953\"],[0.7777777777777778,\"#fb9f3a\"],[0.8888888888888888,\"#fdca26\"],[1.0,\"#f0f921\"]]}],\"mesh3d\":[{\"type\":\"mesh3d\",\"colorbar\":{\"outlinewidth\":0,\"ticks\":\"\"}}],\"scatter\":[{\"fillpattern\":{\"fillmode\":\"overlay\",\"size\":10,\"solidity\":0.2},\"type\":\"scatter\"}],\"parcoords\":[{\"type\":\"parcoords\",\"line\":{\"colorbar\":{\"outlinewidth\":0,\"ticks\":\"\"}}}],\"scatterpolargl\":[{\"type\":\"scatterpolargl\",\"marker\":{\"colorbar\":{\"outlinewidth\":0,\"ticks\":\"\"}}}],\"bar\":[{\"error_x\":{\"color\":\"#2a3f5f\"},\"error_y\":{\"color\":\"#2a3f5f\"},\"marker\":{\"line\":{\"color\":\"#E5ECF6\",\"width\":0.5},\"pattern\":{\"fillmode\":\"overlay\",\"size\":10,\"solidity\":0.2}},\"type\":\"bar\"}],\"scattergeo\":[{\"type\":\"scattergeo\",\"marker\":{\"colorbar\":{\"outlinewidth\":0,\"ticks\":\"\"}}}],\"scatterpolar\":[{\"type\":\"scatterpolar\",\"marker\":{\"colorbar\":{\"outlinewidth\":0,\"ticks\":\"\"}}}],\"histogram\":[{\"marker\":{\"pattern\":{\"fillmode\":\"overlay\",\"size\":10,\"solidity\":0.2}},\"type\":\"histogram\"}],\"scattergl\":[{\"type\":\"scattergl\",\"marker\":{\"colorbar\":{\"outlinewidth\":0,\"ticks\":\"\"}}}],\"scatter3d\":[{\"type\":\"scatter3d\",\"line\":{\"colorbar\":{\"outlinewidth\":0,\"ticks\":\"\"}},\"marker\":{\"colorbar\":{\"outlinewidth\":0,\"ticks\":\"\"}}}],\"scattermapbox\":[{\"type\":\"scattermapbox\",\"marker\":{\"colorbar\":{\"outlinewidth\":0,\"ticks\":\"\"}}}],\"scatterternary\":[{\"type\":\"scatterternary\",\"marker\":{\"colorbar\":{\"outlinewidth\":0,\"ticks\":\"\"}}}],\"scattercarpet\":[{\"type\":\"scattercarpet\",\"marker\":{\"colorbar\":{\"outlinewidth\":0,\"ticks\":\"\"}}}],\"carpet\":[{\"aaxis\":{\"endlinecolor\":\"#2a3f5f\",\"gridcolor\":\"white\",\"linecolor\":\"white\",\"minorgridcolor\":\"white\",\"startlinecolor\":\"#2a3f5f\"},\"baxis\":{\"endlinecolor\":\"#2a3f5f\",\"gridcolor\":\"white\",\"linecolor\":\"white\",\"minorgridcolor\":\"white\",\"startlinecolor\":\"#2a3f5f\"},\"type\":\"carpet\"}],\"table\":[{\"cells\":{\"fill\":{\"color\":\"#EBF0F8\"},\"line\":{\"color\":\"white\"}},\"header\":{\"fill\":{\"color\":\"#C8D4E3\"},\"line\":{\"color\":\"white\"}},\"type\":\"table\"}],\"barpolar\":[{\"marker\":{\"line\":{\"color\":\"#E5ECF6\",\"width\":0.5},\"pattern\":{\"fillmode\":\"overlay\",\"size\":10,\"solidity\":0.2}},\"type\":\"barpolar\"}],\"pie\":[{\"automargin\":true,\"type\":\"pie\"}]},\"layout\":{\"autotypenumbers\":\"strict\",\"colorway\":[\"#636efa\",\"#EF553B\",\"#00cc96\",\"#ab63fa\",\"#FFA15A\",\"#19d3f3\",\"#FF6692\",\"#B6E880\",\"#FF97FF\",\"#FECB52\"],\"font\":{\"color\":\"#2a3f5f\"},\"hovermode\":\"closest\",\"hoverlabel\":{\"align\":\"left\"},\"paper_bgcolor\":\"white\",\"plot_bgcolor\":\"#E5ECF6\",\"polar\":{\"bgcolor\":\"#E5ECF6\",\"angularaxis\":{\"gridcolor\":\"white\",\"linecolor\":\"white\",\"ticks\":\"\"},\"radialaxis\":{\"gridcolor\":\"white\",\"linecolor\":\"white\",\"ticks\":\"\"}},\"ternary\":{\"bgcolor\":\"#E5ECF6\",\"aaxis\":{\"gridcolor\":\"white\",\"linecolor\":\"white\",\"ticks\":\"\"},\"baxis\":{\"gridcolor\":\"white\",\"linecolor\":\"white\",\"ticks\":\"\"},\"caxis\":{\"gridcolor\":\"white\",\"linecolor\":\"white\",\"ticks\":\"\"}},\"coloraxis\":{\"colorbar\":{\"outlinewidth\":0,\"ticks\":\"\"}},\"colorscale\":{\"sequential\":[[0.0,\"#0d0887\"],[0.1111111111111111,\"#46039f\"],[0.2222222222222222,\"#7201a8\"],[0.3333333333333333,\"#9c179e\"],[0.4444444444444444,\"#bd3786\"],[0.5555555555555556,\"#d8576b\"],[0.6666666666666666,\"#ed7953\"],[0.7777777777777778,\"#fb9f3a\"],[0.8888888888888888,\"#fdca26\"],[1.0,\"#f0f921\"]],\"sequentialminus\":[[0.0,\"#0d0887\"],[0.1111111111111111,\"#46039f\"],[0.2222222222222222,\"#7201a8\"],[0.3333333333333333,\"#9c179e\"],[0.4444444444444444,\"#bd3786\"],[0.5555555555555556,\"#d8576b\"],[0.6666666666666666,\"#ed7953\"],[0.7777777777777778,\"#fb9f3a\"],[0.8888888888888888,\"#fdca26\"],[1.0,\"#f0f921\"]],\"diverging\":[[0,\"#8e0152\"],[0.1,\"#c51b7d\"],[0.2,\"#de77ae\"],[0.3,\"#f1b6da\"],[0.4,\"#fde0ef\"],[0.5,\"#f7f7f7\"],[0.6,\"#e6f5d0\"],[0.7,\"#b8e186\"],[0.8,\"#7fbc41\"],[0.9,\"#4d9221\"],[1,\"#276419\"]]},\"xaxis\":{\"gridcolor\":\"white\",\"linecolor\":\"white\",\"ticks\":\"\",\"title\":{\"standoff\":15},\"zerolinecolor\":\"white\",\"automargin\":true,\"zerolinewidth\":2},\"yaxis\":{\"gridcolor\":\"white\",\"linecolor\":\"white\",\"ticks\":\"\",\"title\":{\"standoff\":15},\"zerolinecolor\":\"white\",\"automargin\":true,\"zerolinewidth\":2},\"scene\":{\"xaxis\":{\"backgroundcolor\":\"#E5ECF6\",\"gridcolor\":\"white\",\"linecolor\":\"white\",\"showbackground\":true,\"ticks\":\"\",\"zerolinecolor\":\"white\",\"gridwidth\":2},\"yaxis\":{\"backgroundcolor\":\"#E5ECF6\",\"gridcolor\":\"white\",\"linecolor\":\"white\",\"showbackground\":true,\"ticks\":\"\",\"zerolinecolor\":\"white\",\"gridwidth\":2},\"zaxis\":{\"backgroundcolor\":\"#E5ECF6\",\"gridcolor\":\"white\",\"linecolor\":\"white\",\"showbackground\":true,\"ticks\":\"\",\"zerolinecolor\":\"white\",\"gridwidth\":2}},\"shapedefaults\":{\"line\":{\"color\":\"#2a3f5f\"}},\"annotationdefaults\":{\"arrowcolor\":\"#2a3f5f\",\"arrowhead\":0,\"arrowwidth\":1},\"geo\":{\"bgcolor\":\"white\",\"landcolor\":\"#E5ECF6\",\"subunitcolor\":\"white\",\"showland\":true,\"showlakes\":true,\"lakecolor\":\"white\"},\"title\":{\"x\":0.05},\"mapbox\":{\"style\":\"light\"}}}},                        {\"responsive\": true}                    ).then(function(){\n",
       "                            \n",
       "var gd = document.getElementById('c7081711-6c73-4548-aaeb-f063b98a4a0e');\n",
       "var x = new MutationObserver(function (mutations, observer) {{\n",
       "        var display = window.getComputedStyle(gd).display;\n",
       "        if (!display || display === 'none') {{\n",
       "            console.log([gd, 'removed!']);\n",
       "            Plotly.purge(gd);\n",
       "            observer.disconnect();\n",
       "        }}\n",
       "}});\n",
       "\n",
       "// Listen for the removal of the full notebook cells\n",
       "var notebookContainer = gd.closest('#notebook-container');\n",
       "if (notebookContainer) {{\n",
       "    x.observe(notebookContainer, {childList: true});\n",
       "}}\n",
       "\n",
       "// Listen for the clearing of the current output cell\n",
       "var outputEl = gd.closest('.output');\n",
       "if (outputEl) {{\n",
       "    x.observe(outputEl, {childList: true});\n",
       "}}\n",
       "\n",
       "                        })                };                });            </script>        </div>"
      ]
     },
     "metadata": {},
     "output_type": "display_data"
    }
   ],
   "source": [
    "dist = df['CountryName'].value_counts()\n",
    "colors = ['mediumturquoise', 'darkblue']\n",
    "trace = go.Pie(values=(np.array(dist)),labels=dist.index)\n",
    "layout = go.Layout(title='Motorcars CountryName')\n",
    "data = [trace]\n",
    "fig = go.Figure(trace,layout)\n",
    "fig.update_traces(marker=dict(colors=colors, line=dict(color='#000000', width=2)))\n",
    "fig.show()"
   ]
  },
  {
   "cell_type": "code",
   "execution_count": 65,
   "id": "7a775f13",
   "metadata": {},
   "outputs": [
    {
     "data": {
      "application/vnd.plotly.v1+json": {
       "config": {
        "plotlyServerURL": "https://plot.ly"
       },
       "data": [
        {
         "type": "heatmap",
         "x": [
          "SalePrice",
          "CostPrice",
          "TotalDiscount",
          "DeliveryCharge",
          "SpareParts",
          "LaborCost",
          "ReportingYear",
          "ReportingMonth"
         ],
         "y": [
          "SalePrice",
          "CostPrice",
          "TotalDiscount",
          "DeliveryCharge",
          "SpareParts",
          "LaborCost",
          "ReportingYear",
          "ReportingMonth"
         ],
         "z": [
          [
           1,
           0.6179584247427343,
           0.027686548574400355,
           0.5711811075143642,
           0.022612511768435293,
           0.2023018306619282,
           -0.03964069175431247,
           -0.00501180030078578
          ],
          [
           0.6179584247427343,
           1,
           0.0016533454668595548,
           0.4878079835119261,
           0.0803665859245231,
           0.003847259139023938,
           -0.03311602277933285,
           0.12028209484508534
          ],
          [
           0.027686548574400355,
           0.0016533454668595548,
           1,
           0.15234120731604017,
           0.1422661031077143,
           0.3616782178210187,
           -0.009758474102649468,
           0.0739420331286889
          ],
          [
           0.5711811075143642,
           0.4878079835119261,
           0.15234120731604017,
           1,
           0.25836760449156215,
           0.34022784500448955,
           -0.19621070301433408,
           0.04513266075267785
          ],
          [
           0.022612511768435293,
           0.0803665859245231,
           0.1422661031077143,
           0.25836760449156215,
           1,
           0.406519133778688,
           -0.1989579167372658,
           0.010938592087438729
          ],
          [
           0.2023018306619282,
           0.003847259139023938,
           0.3616782178210187,
           0.34022784500448955,
           0.406519133778688,
           1,
           -0.07999688137529576,
           -0.06073573124884587
          ],
          [
           -0.03964069175431247,
           -0.03311602277933285,
           -0.009758474102649468,
           -0.19621070301433408,
           -0.1989579167372658,
           -0.07999688137529576,
           1,
           -0.017360485471857794
          ],
          [
           -0.00501180030078578,
           0.12028209484508534,
           0.0739420331286889,
           0.04513266075267785,
           0.010938592087438729,
           -0.06073573124884587,
           -0.017360485471857794,
           1
          ]
         ]
        }
       ],
       "layout": {
        "template": {
         "data": {
          "bar": [
           {
            "error_x": {
             "color": "#2a3f5f"
            },
            "error_y": {
             "color": "#2a3f5f"
            },
            "marker": {
             "line": {
              "color": "#E5ECF6",
              "width": 0.5
             },
             "pattern": {
              "fillmode": "overlay",
              "size": 10,
              "solidity": 0.2
             }
            },
            "type": "bar"
           }
          ],
          "barpolar": [
           {
            "marker": {
             "line": {
              "color": "#E5ECF6",
              "width": 0.5
             },
             "pattern": {
              "fillmode": "overlay",
              "size": 10,
              "solidity": 0.2
             }
            },
            "type": "barpolar"
           }
          ],
          "carpet": [
           {
            "aaxis": {
             "endlinecolor": "#2a3f5f",
             "gridcolor": "white",
             "linecolor": "white",
             "minorgridcolor": "white",
             "startlinecolor": "#2a3f5f"
            },
            "baxis": {
             "endlinecolor": "#2a3f5f",
             "gridcolor": "white",
             "linecolor": "white",
             "minorgridcolor": "white",
             "startlinecolor": "#2a3f5f"
            },
            "type": "carpet"
           }
          ],
          "choropleth": [
           {
            "colorbar": {
             "outlinewidth": 0,
             "ticks": ""
            },
            "type": "choropleth"
           }
          ],
          "contour": [
           {
            "colorbar": {
             "outlinewidth": 0,
             "ticks": ""
            },
            "colorscale": [
             [
              0,
              "#0d0887"
             ],
             [
              0.1111111111111111,
              "#46039f"
             ],
             [
              0.2222222222222222,
              "#7201a8"
             ],
             [
              0.3333333333333333,
              "#9c179e"
             ],
             [
              0.4444444444444444,
              "#bd3786"
             ],
             [
              0.5555555555555556,
              "#d8576b"
             ],
             [
              0.6666666666666666,
              "#ed7953"
             ],
             [
              0.7777777777777778,
              "#fb9f3a"
             ],
             [
              0.8888888888888888,
              "#fdca26"
             ],
             [
              1,
              "#f0f921"
             ]
            ],
            "type": "contour"
           }
          ],
          "contourcarpet": [
           {
            "colorbar": {
             "outlinewidth": 0,
             "ticks": ""
            },
            "type": "contourcarpet"
           }
          ],
          "heatmap": [
           {
            "colorbar": {
             "outlinewidth": 0,
             "ticks": ""
            },
            "colorscale": [
             [
              0,
              "#0d0887"
             ],
             [
              0.1111111111111111,
              "#46039f"
             ],
             [
              0.2222222222222222,
              "#7201a8"
             ],
             [
              0.3333333333333333,
              "#9c179e"
             ],
             [
              0.4444444444444444,
              "#bd3786"
             ],
             [
              0.5555555555555556,
              "#d8576b"
             ],
             [
              0.6666666666666666,
              "#ed7953"
             ],
             [
              0.7777777777777778,
              "#fb9f3a"
             ],
             [
              0.8888888888888888,
              "#fdca26"
             ],
             [
              1,
              "#f0f921"
             ]
            ],
            "type": "heatmap"
           }
          ],
          "heatmapgl": [
           {
            "colorbar": {
             "outlinewidth": 0,
             "ticks": ""
            },
            "colorscale": [
             [
              0,
              "#0d0887"
             ],
             [
              0.1111111111111111,
              "#46039f"
             ],
             [
              0.2222222222222222,
              "#7201a8"
             ],
             [
              0.3333333333333333,
              "#9c179e"
             ],
             [
              0.4444444444444444,
              "#bd3786"
             ],
             [
              0.5555555555555556,
              "#d8576b"
             ],
             [
              0.6666666666666666,
              "#ed7953"
             ],
             [
              0.7777777777777778,
              "#fb9f3a"
             ],
             [
              0.8888888888888888,
              "#fdca26"
             ],
             [
              1,
              "#f0f921"
             ]
            ],
            "type": "heatmapgl"
           }
          ],
          "histogram": [
           {
            "marker": {
             "pattern": {
              "fillmode": "overlay",
              "size": 10,
              "solidity": 0.2
             }
            },
            "type": "histogram"
           }
          ],
          "histogram2d": [
           {
            "colorbar": {
             "outlinewidth": 0,
             "ticks": ""
            },
            "colorscale": [
             [
              0,
              "#0d0887"
             ],
             [
              0.1111111111111111,
              "#46039f"
             ],
             [
              0.2222222222222222,
              "#7201a8"
             ],
             [
              0.3333333333333333,
              "#9c179e"
             ],
             [
              0.4444444444444444,
              "#bd3786"
             ],
             [
              0.5555555555555556,
              "#d8576b"
             ],
             [
              0.6666666666666666,
              "#ed7953"
             ],
             [
              0.7777777777777778,
              "#fb9f3a"
             ],
             [
              0.8888888888888888,
              "#fdca26"
             ],
             [
              1,
              "#f0f921"
             ]
            ],
            "type": "histogram2d"
           }
          ],
          "histogram2dcontour": [
           {
            "colorbar": {
             "outlinewidth": 0,
             "ticks": ""
            },
            "colorscale": [
             [
              0,
              "#0d0887"
             ],
             [
              0.1111111111111111,
              "#46039f"
             ],
             [
              0.2222222222222222,
              "#7201a8"
             ],
             [
              0.3333333333333333,
              "#9c179e"
             ],
             [
              0.4444444444444444,
              "#bd3786"
             ],
             [
              0.5555555555555556,
              "#d8576b"
             ],
             [
              0.6666666666666666,
              "#ed7953"
             ],
             [
              0.7777777777777778,
              "#fb9f3a"
             ],
             [
              0.8888888888888888,
              "#fdca26"
             ],
             [
              1,
              "#f0f921"
             ]
            ],
            "type": "histogram2dcontour"
           }
          ],
          "mesh3d": [
           {
            "colorbar": {
             "outlinewidth": 0,
             "ticks": ""
            },
            "type": "mesh3d"
           }
          ],
          "parcoords": [
           {
            "line": {
             "colorbar": {
              "outlinewidth": 0,
              "ticks": ""
             }
            },
            "type": "parcoords"
           }
          ],
          "pie": [
           {
            "automargin": true,
            "type": "pie"
           }
          ],
          "scatter": [
           {
            "fillpattern": {
             "fillmode": "overlay",
             "size": 10,
             "solidity": 0.2
            },
            "type": "scatter"
           }
          ],
          "scatter3d": [
           {
            "line": {
             "colorbar": {
              "outlinewidth": 0,
              "ticks": ""
             }
            },
            "marker": {
             "colorbar": {
              "outlinewidth": 0,
              "ticks": ""
             }
            },
            "type": "scatter3d"
           }
          ],
          "scattercarpet": [
           {
            "marker": {
             "colorbar": {
              "outlinewidth": 0,
              "ticks": ""
             }
            },
            "type": "scattercarpet"
           }
          ],
          "scattergeo": [
           {
            "marker": {
             "colorbar": {
              "outlinewidth": 0,
              "ticks": ""
             }
            },
            "type": "scattergeo"
           }
          ],
          "scattergl": [
           {
            "marker": {
             "colorbar": {
              "outlinewidth": 0,
              "ticks": ""
             }
            },
            "type": "scattergl"
           }
          ],
          "scattermapbox": [
           {
            "marker": {
             "colorbar": {
              "outlinewidth": 0,
              "ticks": ""
             }
            },
            "type": "scattermapbox"
           }
          ],
          "scatterpolar": [
           {
            "marker": {
             "colorbar": {
              "outlinewidth": 0,
              "ticks": ""
             }
            },
            "type": "scatterpolar"
           }
          ],
          "scatterpolargl": [
           {
            "marker": {
             "colorbar": {
              "outlinewidth": 0,
              "ticks": ""
             }
            },
            "type": "scatterpolargl"
           }
          ],
          "scatterternary": [
           {
            "marker": {
             "colorbar": {
              "outlinewidth": 0,
              "ticks": ""
             }
            },
            "type": "scatterternary"
           }
          ],
          "surface": [
           {
            "colorbar": {
             "outlinewidth": 0,
             "ticks": ""
            },
            "colorscale": [
             [
              0,
              "#0d0887"
             ],
             [
              0.1111111111111111,
              "#46039f"
             ],
             [
              0.2222222222222222,
              "#7201a8"
             ],
             [
              0.3333333333333333,
              "#9c179e"
             ],
             [
              0.4444444444444444,
              "#bd3786"
             ],
             [
              0.5555555555555556,
              "#d8576b"
             ],
             [
              0.6666666666666666,
              "#ed7953"
             ],
             [
              0.7777777777777778,
              "#fb9f3a"
             ],
             [
              0.8888888888888888,
              "#fdca26"
             ],
             [
              1,
              "#f0f921"
             ]
            ],
            "type": "surface"
           }
          ],
          "table": [
           {
            "cells": {
             "fill": {
              "color": "#EBF0F8"
             },
             "line": {
              "color": "white"
             }
            },
            "header": {
             "fill": {
              "color": "#C8D4E3"
             },
             "line": {
              "color": "white"
             }
            },
            "type": "table"
           }
          ]
         },
         "layout": {
          "annotationdefaults": {
           "arrowcolor": "#2a3f5f",
           "arrowhead": 0,
           "arrowwidth": 1
          },
          "autotypenumbers": "strict",
          "coloraxis": {
           "colorbar": {
            "outlinewidth": 0,
            "ticks": ""
           }
          },
          "colorscale": {
           "diverging": [
            [
             0,
             "#8e0152"
            ],
            [
             0.1,
             "#c51b7d"
            ],
            [
             0.2,
             "#de77ae"
            ],
            [
             0.3,
             "#f1b6da"
            ],
            [
             0.4,
             "#fde0ef"
            ],
            [
             0.5,
             "#f7f7f7"
            ],
            [
             0.6,
             "#e6f5d0"
            ],
            [
             0.7,
             "#b8e186"
            ],
            [
             0.8,
             "#7fbc41"
            ],
            [
             0.9,
             "#4d9221"
            ],
            [
             1,
             "#276419"
            ]
           ],
           "sequential": [
            [
             0,
             "#0d0887"
            ],
            [
             0.1111111111111111,
             "#46039f"
            ],
            [
             0.2222222222222222,
             "#7201a8"
            ],
            [
             0.3333333333333333,
             "#9c179e"
            ],
            [
             0.4444444444444444,
             "#bd3786"
            ],
            [
             0.5555555555555556,
             "#d8576b"
            ],
            [
             0.6666666666666666,
             "#ed7953"
            ],
            [
             0.7777777777777778,
             "#fb9f3a"
            ],
            [
             0.8888888888888888,
             "#fdca26"
            ],
            [
             1,
             "#f0f921"
            ]
           ],
           "sequentialminus": [
            [
             0,
             "#0d0887"
            ],
            [
             0.1111111111111111,
             "#46039f"
            ],
            [
             0.2222222222222222,
             "#7201a8"
            ],
            [
             0.3333333333333333,
             "#9c179e"
            ],
            [
             0.4444444444444444,
             "#bd3786"
            ],
            [
             0.5555555555555556,
             "#d8576b"
            ],
            [
             0.6666666666666666,
             "#ed7953"
            ],
            [
             0.7777777777777778,
             "#fb9f3a"
            ],
            [
             0.8888888888888888,
             "#fdca26"
            ],
            [
             1,
             "#f0f921"
            ]
           ]
          },
          "colorway": [
           "#636efa",
           "#EF553B",
           "#00cc96",
           "#ab63fa",
           "#FFA15A",
           "#19d3f3",
           "#FF6692",
           "#B6E880",
           "#FF97FF",
           "#FECB52"
          ],
          "font": {
           "color": "#2a3f5f"
          },
          "geo": {
           "bgcolor": "white",
           "lakecolor": "white",
           "landcolor": "#E5ECF6",
           "showlakes": true,
           "showland": true,
           "subunitcolor": "white"
          },
          "hoverlabel": {
           "align": "left"
          },
          "hovermode": "closest",
          "mapbox": {
           "style": "light"
          },
          "paper_bgcolor": "white",
          "plot_bgcolor": "#E5ECF6",
          "polar": {
           "angularaxis": {
            "gridcolor": "white",
            "linecolor": "white",
            "ticks": ""
           },
           "bgcolor": "#E5ECF6",
           "radialaxis": {
            "gridcolor": "white",
            "linecolor": "white",
            "ticks": ""
           }
          },
          "scene": {
           "xaxis": {
            "backgroundcolor": "#E5ECF6",
            "gridcolor": "white",
            "gridwidth": 2,
            "linecolor": "white",
            "showbackground": true,
            "ticks": "",
            "zerolinecolor": "white"
           },
           "yaxis": {
            "backgroundcolor": "#E5ECF6",
            "gridcolor": "white",
            "gridwidth": 2,
            "linecolor": "white",
            "showbackground": true,
            "ticks": "",
            "zerolinecolor": "white"
           },
           "zaxis": {
            "backgroundcolor": "#E5ECF6",
            "gridcolor": "white",
            "gridwidth": 2,
            "linecolor": "white",
            "showbackground": true,
            "ticks": "",
            "zerolinecolor": "white"
           }
          },
          "shapedefaults": {
           "line": {
            "color": "#2a3f5f"
           }
          },
          "ternary": {
           "aaxis": {
            "gridcolor": "white",
            "linecolor": "white",
            "ticks": ""
           },
           "baxis": {
            "gridcolor": "white",
            "linecolor": "white",
            "ticks": ""
           },
           "bgcolor": "#E5ECF6",
           "caxis": {
            "gridcolor": "white",
            "linecolor": "white",
            "ticks": ""
           }
          },
          "title": {
           "x": 0.05
          },
          "xaxis": {
           "automargin": true,
           "gridcolor": "white",
           "linecolor": "white",
           "ticks": "",
           "title": {
            "standoff": 15
           },
           "zerolinecolor": "white",
           "zerolinewidth": 2
          },
          "yaxis": {
           "automargin": true,
           "gridcolor": "white",
           "linecolor": "white",
           "ticks": "",
           "title": {
            "standoff": 15
           },
           "zerolinecolor": "white",
           "zerolinewidth": 2
          }
         }
        }
       }
      },
      "text/html": [
       "<div>                            <div id=\"5ecc87f6-e822-49c6-b6ad-19d569fc7f6d\" class=\"plotly-graph-div\" style=\"height:525px; width:100%;\"></div>            <script type=\"text/javascript\">                require([\"plotly\"], function(Plotly) {                    window.PLOTLYENV=window.PLOTLYENV || {};                                    if (document.getElementById(\"5ecc87f6-e822-49c6-b6ad-19d569fc7f6d\")) {                    Plotly.newPlot(                        \"5ecc87f6-e822-49c6-b6ad-19d569fc7f6d\",                        [{\"x\":[\"SalePrice\",\"CostPrice\",\"TotalDiscount\",\"DeliveryCharge\",\"SpareParts\",\"LaborCost\",\"ReportingYear\",\"ReportingMonth\"],\"y\":[\"SalePrice\",\"CostPrice\",\"TotalDiscount\",\"DeliveryCharge\",\"SpareParts\",\"LaborCost\",\"ReportingYear\",\"ReportingMonth\"],\"z\":[[1.0,0.6179584247427343,0.027686548574400355,0.5711811075143642,0.022612511768435293,0.2023018306619282,-0.03964069175431247,-0.00501180030078578],[0.6179584247427343,1.0,0.0016533454668595548,0.4878079835119261,0.0803665859245231,0.003847259139023938,-0.03311602277933285,0.12028209484508534],[0.027686548574400355,0.0016533454668595548,1.0,0.15234120731604017,0.1422661031077143,0.3616782178210187,-0.009758474102649468,0.0739420331286889],[0.5711811075143642,0.4878079835119261,0.15234120731604017,1.0,0.25836760449156215,0.34022784500448955,-0.19621070301433408,0.04513266075267785],[0.022612511768435293,0.0803665859245231,0.1422661031077143,0.25836760449156215,1.0,0.406519133778688,-0.1989579167372658,0.010938592087438729],[0.2023018306619282,0.003847259139023938,0.3616782178210187,0.34022784500448955,0.406519133778688,1.0,-0.07999688137529576,-0.06073573124884587],[-0.03964069175431247,-0.03311602277933285,-0.009758474102649468,-0.19621070301433408,-0.1989579167372658,-0.07999688137529576,1.0,-0.017360485471857794],[-0.00501180030078578,0.12028209484508534,0.0739420331286889,0.04513266075267785,0.010938592087438729,-0.06073573124884587,-0.017360485471857794,1.0]],\"type\":\"heatmap\"}],                        {\"template\":{\"data\":{\"histogram2dcontour\":[{\"type\":\"histogram2dcontour\",\"colorbar\":{\"outlinewidth\":0,\"ticks\":\"\"},\"colorscale\":[[0.0,\"#0d0887\"],[0.1111111111111111,\"#46039f\"],[0.2222222222222222,\"#7201a8\"],[0.3333333333333333,\"#9c179e\"],[0.4444444444444444,\"#bd3786\"],[0.5555555555555556,\"#d8576b\"],[0.6666666666666666,\"#ed7953\"],[0.7777777777777778,\"#fb9f3a\"],[0.8888888888888888,\"#fdca26\"],[1.0,\"#f0f921\"]]}],\"choropleth\":[{\"type\":\"choropleth\",\"colorbar\":{\"outlinewidth\":0,\"ticks\":\"\"}}],\"histogram2d\":[{\"type\":\"histogram2d\",\"colorbar\":{\"outlinewidth\":0,\"ticks\":\"\"},\"colorscale\":[[0.0,\"#0d0887\"],[0.1111111111111111,\"#46039f\"],[0.2222222222222222,\"#7201a8\"],[0.3333333333333333,\"#9c179e\"],[0.4444444444444444,\"#bd3786\"],[0.5555555555555556,\"#d8576b\"],[0.6666666666666666,\"#ed7953\"],[0.7777777777777778,\"#fb9f3a\"],[0.8888888888888888,\"#fdca26\"],[1.0,\"#f0f921\"]]}],\"heatmap\":[{\"type\":\"heatmap\",\"colorbar\":{\"outlinewidth\":0,\"ticks\":\"\"},\"colorscale\":[[0.0,\"#0d0887\"],[0.1111111111111111,\"#46039f\"],[0.2222222222222222,\"#7201a8\"],[0.3333333333333333,\"#9c179e\"],[0.4444444444444444,\"#bd3786\"],[0.5555555555555556,\"#d8576b\"],[0.6666666666666666,\"#ed7953\"],[0.7777777777777778,\"#fb9f3a\"],[0.8888888888888888,\"#fdca26\"],[1.0,\"#f0f921\"]]}],\"heatmapgl\":[{\"type\":\"heatmapgl\",\"colorbar\":{\"outlinewidth\":0,\"ticks\":\"\"},\"colorscale\":[[0.0,\"#0d0887\"],[0.1111111111111111,\"#46039f\"],[0.2222222222222222,\"#7201a8\"],[0.3333333333333333,\"#9c179e\"],[0.4444444444444444,\"#bd3786\"],[0.5555555555555556,\"#d8576b\"],[0.6666666666666666,\"#ed7953\"],[0.7777777777777778,\"#fb9f3a\"],[0.8888888888888888,\"#fdca26\"],[1.0,\"#f0f921\"]]}],\"contourcarpet\":[{\"type\":\"contourcarpet\",\"colorbar\":{\"outlinewidth\":0,\"ticks\":\"\"}}],\"contour\":[{\"type\":\"contour\",\"colorbar\":{\"outlinewidth\":0,\"ticks\":\"\"},\"colorscale\":[[0.0,\"#0d0887\"],[0.1111111111111111,\"#46039f\"],[0.2222222222222222,\"#7201a8\"],[0.3333333333333333,\"#9c179e\"],[0.4444444444444444,\"#bd3786\"],[0.5555555555555556,\"#d8576b\"],[0.6666666666666666,\"#ed7953\"],[0.7777777777777778,\"#fb9f3a\"],[0.8888888888888888,\"#fdca26\"],[1.0,\"#f0f921\"]]}],\"surface\":[{\"type\":\"surface\",\"colorbar\":{\"outlinewidth\":0,\"ticks\":\"\"},\"colorscale\":[[0.0,\"#0d0887\"],[0.1111111111111111,\"#46039f\"],[0.2222222222222222,\"#7201a8\"],[0.3333333333333333,\"#9c179e\"],[0.4444444444444444,\"#bd3786\"],[0.5555555555555556,\"#d8576b\"],[0.6666666666666666,\"#ed7953\"],[0.7777777777777778,\"#fb9f3a\"],[0.8888888888888888,\"#fdca26\"],[1.0,\"#f0f921\"]]}],\"mesh3d\":[{\"type\":\"mesh3d\",\"colorbar\":{\"outlinewidth\":0,\"ticks\":\"\"}}],\"scatter\":[{\"fillpattern\":{\"fillmode\":\"overlay\",\"size\":10,\"solidity\":0.2},\"type\":\"scatter\"}],\"parcoords\":[{\"type\":\"parcoords\",\"line\":{\"colorbar\":{\"outlinewidth\":0,\"ticks\":\"\"}}}],\"scatterpolargl\":[{\"type\":\"scatterpolargl\",\"marker\":{\"colorbar\":{\"outlinewidth\":0,\"ticks\":\"\"}}}],\"bar\":[{\"error_x\":{\"color\":\"#2a3f5f\"},\"error_y\":{\"color\":\"#2a3f5f\"},\"marker\":{\"line\":{\"color\":\"#E5ECF6\",\"width\":0.5},\"pattern\":{\"fillmode\":\"overlay\",\"size\":10,\"solidity\":0.2}},\"type\":\"bar\"}],\"scattergeo\":[{\"type\":\"scattergeo\",\"marker\":{\"colorbar\":{\"outlinewidth\":0,\"ticks\":\"\"}}}],\"scatterpolar\":[{\"type\":\"scatterpolar\",\"marker\":{\"colorbar\":{\"outlinewidth\":0,\"ticks\":\"\"}}}],\"histogram\":[{\"marker\":{\"pattern\":{\"fillmode\":\"overlay\",\"size\":10,\"solidity\":0.2}},\"type\":\"histogram\"}],\"scattergl\":[{\"type\":\"scattergl\",\"marker\":{\"colorbar\":{\"outlinewidth\":0,\"ticks\":\"\"}}}],\"scatter3d\":[{\"type\":\"scatter3d\",\"line\":{\"colorbar\":{\"outlinewidth\":0,\"ticks\":\"\"}},\"marker\":{\"colorbar\":{\"outlinewidth\":0,\"ticks\":\"\"}}}],\"scattermapbox\":[{\"type\":\"scattermapbox\",\"marker\":{\"colorbar\":{\"outlinewidth\":0,\"ticks\":\"\"}}}],\"scatterternary\":[{\"type\":\"scatterternary\",\"marker\":{\"colorbar\":{\"outlinewidth\":0,\"ticks\":\"\"}}}],\"scattercarpet\":[{\"type\":\"scattercarpet\",\"marker\":{\"colorbar\":{\"outlinewidth\":0,\"ticks\":\"\"}}}],\"carpet\":[{\"aaxis\":{\"endlinecolor\":\"#2a3f5f\",\"gridcolor\":\"white\",\"linecolor\":\"white\",\"minorgridcolor\":\"white\",\"startlinecolor\":\"#2a3f5f\"},\"baxis\":{\"endlinecolor\":\"#2a3f5f\",\"gridcolor\":\"white\",\"linecolor\":\"white\",\"minorgridcolor\":\"white\",\"startlinecolor\":\"#2a3f5f\"},\"type\":\"carpet\"}],\"table\":[{\"cells\":{\"fill\":{\"color\":\"#EBF0F8\"},\"line\":{\"color\":\"white\"}},\"header\":{\"fill\":{\"color\":\"#C8D4E3\"},\"line\":{\"color\":\"white\"}},\"type\":\"table\"}],\"barpolar\":[{\"marker\":{\"line\":{\"color\":\"#E5ECF6\",\"width\":0.5},\"pattern\":{\"fillmode\":\"overlay\",\"size\":10,\"solidity\":0.2}},\"type\":\"barpolar\"}],\"pie\":[{\"automargin\":true,\"type\":\"pie\"}]},\"layout\":{\"autotypenumbers\":\"strict\",\"colorway\":[\"#636efa\",\"#EF553B\",\"#00cc96\",\"#ab63fa\",\"#FFA15A\",\"#19d3f3\",\"#FF6692\",\"#B6E880\",\"#FF97FF\",\"#FECB52\"],\"font\":{\"color\":\"#2a3f5f\"},\"hovermode\":\"closest\",\"hoverlabel\":{\"align\":\"left\"},\"paper_bgcolor\":\"white\",\"plot_bgcolor\":\"#E5ECF6\",\"polar\":{\"bgcolor\":\"#E5ECF6\",\"angularaxis\":{\"gridcolor\":\"white\",\"linecolor\":\"white\",\"ticks\":\"\"},\"radialaxis\":{\"gridcolor\":\"white\",\"linecolor\":\"white\",\"ticks\":\"\"}},\"ternary\":{\"bgcolor\":\"#E5ECF6\",\"aaxis\":{\"gridcolor\":\"white\",\"linecolor\":\"white\",\"ticks\":\"\"},\"baxis\":{\"gridcolor\":\"white\",\"linecolor\":\"white\",\"ticks\":\"\"},\"caxis\":{\"gridcolor\":\"white\",\"linecolor\":\"white\",\"ticks\":\"\"}},\"coloraxis\":{\"colorbar\":{\"outlinewidth\":0,\"ticks\":\"\"}},\"colorscale\":{\"sequential\":[[0.0,\"#0d0887\"],[0.1111111111111111,\"#46039f\"],[0.2222222222222222,\"#7201a8\"],[0.3333333333333333,\"#9c179e\"],[0.4444444444444444,\"#bd3786\"],[0.5555555555555556,\"#d8576b\"],[0.6666666666666666,\"#ed7953\"],[0.7777777777777778,\"#fb9f3a\"],[0.8888888888888888,\"#fdca26\"],[1.0,\"#f0f921\"]],\"sequentialminus\":[[0.0,\"#0d0887\"],[0.1111111111111111,\"#46039f\"],[0.2222222222222222,\"#7201a8\"],[0.3333333333333333,\"#9c179e\"],[0.4444444444444444,\"#bd3786\"],[0.5555555555555556,\"#d8576b\"],[0.6666666666666666,\"#ed7953\"],[0.7777777777777778,\"#fb9f3a\"],[0.8888888888888888,\"#fdca26\"],[1.0,\"#f0f921\"]],\"diverging\":[[0,\"#8e0152\"],[0.1,\"#c51b7d\"],[0.2,\"#de77ae\"],[0.3,\"#f1b6da\"],[0.4,\"#fde0ef\"],[0.5,\"#f7f7f7\"],[0.6,\"#e6f5d0\"],[0.7,\"#b8e186\"],[0.8,\"#7fbc41\"],[0.9,\"#4d9221\"],[1,\"#276419\"]]},\"xaxis\":{\"gridcolor\":\"white\",\"linecolor\":\"white\",\"ticks\":\"\",\"title\":{\"standoff\":15},\"zerolinecolor\":\"white\",\"automargin\":true,\"zerolinewidth\":2},\"yaxis\":{\"gridcolor\":\"white\",\"linecolor\":\"white\",\"ticks\":\"\",\"title\":{\"standoff\":15},\"zerolinecolor\":\"white\",\"automargin\":true,\"zerolinewidth\":2},\"scene\":{\"xaxis\":{\"backgroundcolor\":\"#E5ECF6\",\"gridcolor\":\"white\",\"linecolor\":\"white\",\"showbackground\":true,\"ticks\":\"\",\"zerolinecolor\":\"white\",\"gridwidth\":2},\"yaxis\":{\"backgroundcolor\":\"#E5ECF6\",\"gridcolor\":\"white\",\"linecolor\":\"white\",\"showbackground\":true,\"ticks\":\"\",\"zerolinecolor\":\"white\",\"gridwidth\":2},\"zaxis\":{\"backgroundcolor\":\"#E5ECF6\",\"gridcolor\":\"white\",\"linecolor\":\"white\",\"showbackground\":true,\"ticks\":\"\",\"zerolinecolor\":\"white\",\"gridwidth\":2}},\"shapedefaults\":{\"line\":{\"color\":\"#2a3f5f\"}},\"annotationdefaults\":{\"arrowcolor\":\"#2a3f5f\",\"arrowhead\":0,\"arrowwidth\":1},\"geo\":{\"bgcolor\":\"white\",\"landcolor\":\"#E5ECF6\",\"subunitcolor\":\"white\",\"showland\":true,\"showlakes\":true,\"lakecolor\":\"white\"},\"title\":{\"x\":0.05},\"mapbox\":{\"style\":\"light\"}}}},                        {\"responsive\": true}                    ).then(function(){\n",
       "                            \n",
       "var gd = document.getElementById('5ecc87f6-e822-49c6-b6ad-19d569fc7f6d');\n",
       "var x = new MutationObserver(function (mutations, observer) {{\n",
       "        var display = window.getComputedStyle(gd).display;\n",
       "        if (!display || display === 'none') {{\n",
       "            console.log([gd, 'removed!']);\n",
       "            Plotly.purge(gd);\n",
       "            observer.disconnect();\n",
       "        }}\n",
       "}});\n",
       "\n",
       "// Listen for the removal of the full notebook cells\n",
       "var notebookContainer = gd.closest('#notebook-container');\n",
       "if (notebookContainer) {{\n",
       "    x.observe(notebookContainer, {childList: true});\n",
       "}}\n",
       "\n",
       "// Listen for the clearing of the current output cell\n",
       "var outputEl = gd.closest('.output');\n",
       "if (outputEl) {{\n",
       "    x.observe(outputEl, {childList: true});\n",
       "}}\n",
       "\n",
       "                        })                };                });            </script>        </div>"
      ]
     },
     "metadata": {},
     "output_type": "display_data"
    }
   ],
   "source": [
    "def df_to_plotly(df) :\n",
    "    return {'z' : df.values.tolist(),\n",
    "           'x' : df.columns.tolist(),\n",
    "           'y' : df.index.tolist() }\n",
    "\n",
    "import plotly.graph_objects as go\n",
    "dfNew = df.corr()\n",
    "fig = go.Figure(data=go.Heatmap(df_to_plotly(dfNew)))\n",
    "fig.show()"
   ]
  },
  {
   "cell_type": "code",
   "execution_count": 72,
   "id": "9490b563",
   "metadata": {},
   "outputs": [
    {
     "data": {
      "application/vnd.plotly.v1+json": {
       "config": {
        "plotlyServerURL": "https://plot.ly"
       },
       "data": [
        {
         "hovertemplate": "CostPrice=%{x}<br>TotalDiscount=%{y}<extra></extra>",
         "legendgroup": "",
         "marker": {
          "color": "turquoise",
          "line": {
           "color": "rgb(8,4,107)",
           "width": 1.5
          },
          "symbol": "circle"
         },
         "mode": "markers",
         "name": "",
         "orientation": "v",
         "showlegend": false,
         "type": "scatter",
         "x": [
          125000,
          25000,
          37500,
          25000,
          37500,
          25000,
          37500,
          25000,
          25000,
          37500,
          25000,
          37500,
          25000,
          37500,
          25000,
          12500,
          25000,
          37500,
          25000,
          25700,
          25700,
          62000,
          62000,
          62000,
          25700,
          25700,
          25700,
          25700,
          62000,
          62000,
          25700,
          130000,
          30000,
          42500,
          30000,
          42500,
          30000,
          42500,
          30000,
          30000,
          42500,
          30000,
          42500,
          30000,
          42500,
          30000,
          17500,
          30000,
          42500,
          30000,
          30700,
          30700,
          67000,
          67000,
          67000,
          30700,
          30700,
          30700,
          30700,
          67000,
          67000,
          30700,
          130000,
          30000,
          42500,
          30000,
          42500,
          30000,
          42500,
          30000,
          30000,
          42500,
          30000,
          42500,
          30000,
          42500,
          30000,
          17500,
          30000,
          42500,
          30000,
          30700,
          30700,
          67000,
          67000,
          67000,
          30700,
          30700,
          30700,
          30700,
          67000,
          67000,
          30700,
          62000,
          62000,
          62000,
          75890,
          37500,
          37500,
          37500,
          37500,
          37500,
          37500,
          37500,
          37500,
          37500,
          37500,
          37500,
          37500,
          62000,
          62000,
          62000,
          62000,
          4500,
          4500,
          8500,
          8500,
          4500,
          8500,
          17000,
          8500,
          17000,
          17000,
          67000,
          67000,
          67000,
          80890,
          42500,
          42500,
          42500,
          42500,
          42500,
          42500,
          42500,
          42500,
          42500,
          42500,
          42500,
          42500,
          67000,
          67000,
          67000,
          67000,
          9500,
          9500,
          13500,
          13500,
          9500,
          13500,
          22000,
          13500,
          22000,
          22000,
          67000,
          67000,
          67000,
          80890,
          42500,
          42500,
          42500,
          42500,
          42500,
          42500,
          42500,
          42500,
          42500,
          42500,
          42500,
          67000,
          67000,
          67000,
          67000,
          9500,
          9500,
          13500,
          13500,
          9500,
          22000,
          22000,
          22000,
          50000,
          75000,
          75000,
          88000,
          62000,
          125000,
          56000,
          23500,
          15500,
          75890,
          99000,
          125000,
          125000,
          155000,
          125000,
          62000,
          62000,
          75890,
          62000,
          75890,
          75890,
          75890,
          75890,
          62000,
          75890,
          75890,
          75890,
          75890,
          62000,
          62000,
          62000,
          62000,
          62000,
          125000,
          50000,
          25000,
          37500,
          25000,
          37500,
          37500,
          25700,
          25700,
          25700,
          25700,
          62000,
          62000,
          25700,
          62000,
          62000,
          62000,
          25700,
          25700,
          25700,
          25700,
          25700,
          25700,
          25700,
          25700,
          62000,
          25700,
          8500,
          4500,
          8500,
          4500,
          8500,
          4500,
          4500,
          8500,
          17000,
          17000,
          17000,
          17000,
          17000,
          17000,
          31125,
          17500,
          22500,
          17500,
          31125,
          17500,
          22500,
          17500,
          17500,
          17500,
          22500,
          17500,
          17500,
          22500,
          17500,
          17500,
          31125,
          17500,
          17500,
          55000,
          80000,
          80000,
          93000,
          67000,
          130000,
          61000,
          28500,
          20500,
          80890,
          104000,
          130000,
          130000,
          160000,
          130000,
          67000,
          67000,
          80890,
          67000,
          80890,
          80890,
          80890,
          80890,
          67000,
          80890,
          80890,
          80890,
          80890,
          67000,
          67000,
          67000,
          67000,
          67000,
          130000,
          55000,
          30000,
          42500,
          30000,
          42500,
          42500,
          30700,
          30700,
          30700,
          30700,
          67000,
          67000,
          30700,
          67000,
          67000,
          67000,
          30700,
          30700,
          30700,
          30700,
          30700,
          30700,
          30700,
          30700,
          67000,
          30700,
          13500,
          9500,
          13500,
          9500,
          13500,
          9500,
          9500,
          13500,
          22000,
          22000,
          22000,
          22000,
          22000,
          22000,
          36125,
          22500,
          27500,
          22500,
          36125,
          22500,
          27500,
          22500,
          22500,
          22500,
          27500,
          22500,
          22500,
          27500,
          22500,
          22500,
          36125,
          22500,
          22500,
          55000,
          80000,
          80000,
          93000,
          67000,
          130000,
          61000,
          28500,
          20500,
          80890,
          104000,
          130000,
          130000,
          160000,
          130000,
          67000,
          67000,
          80890,
          67000,
          80890,
          80890,
          80890,
          80890,
          67000,
          80890,
          80890,
          80890,
          80890,
          67000,
          67000,
          67000,
          67000,
          67000,
          130000,
          55000,
          30000,
          42500,
          30000,
          42500,
          42500,
          30700,
          30700,
          30700,
          30700,
          67000,
          67000,
          30700,
          67000,
          67000,
          67000,
          30700,
          30700,
          30700,
          30700,
          30700,
          30700,
          30700,
          67000,
          30700,
          13500,
          9500,
          13500,
          9500,
          13500,
          9500,
          9500,
          13500,
          22000,
          22000,
          22000,
          22000,
          22000,
          22000,
          36125,
          22500,
          27500,
          22500,
          36125,
          22500,
          27500,
          22500,
          22500,
          22500,
          27500,
          22500,
          22500,
          27500,
          22500,
          22500,
          36125,
          22500
         ],
         "xaxis": "x",
         "y": [
          0,
          500,
          500,
          500,
          500,
          500,
          500,
          500,
          0,
          0,
          750,
          750,
          750,
          500,
          500,
          500,
          500,
          750,
          750,
          500,
          500,
          500,
          500,
          500,
          500,
          500,
          500,
          500,
          500,
          500,
          500,
          550,
          550,
          550,
          550,
          550,
          550,
          550,
          800,
          50,
          800,
          800,
          800,
          550,
          550,
          550,
          550,
          800,
          800,
          800,
          550,
          550,
          550,
          550,
          550,
          550,
          550,
          550,
          550,
          550,
          550,
          550,
          550,
          550,
          50,
          50,
          50,
          550,
          550,
          800,
          50,
          800,
          650,
          650,
          550,
          550,
          550,
          550,
          650,
          800,
          800,
          550,
          550,
          550,
          550,
          400,
          550,
          400,
          550,
          550,
          400,
          550,
          550,
          0,
          1750,
          0,
          0,
          150,
          150,
          150,
          150,
          150,
          150,
          150,
          150,
          150,
          150,
          150,
          150,
          150,
          150,
          150,
          150,
          150,
          150,
          150,
          150,
          150,
          150,
          150,
          150,
          150,
          150,
          1800,
          50,
          50,
          50.01,
          200,
          200,
          200,
          200,
          200,
          200,
          200,
          200,
          200,
          200,
          200,
          200,
          200,
          200,
          200,
          200,
          200,
          200,
          200,
          200,
          200,
          200,
          200,
          200,
          200,
          200,
          1800,
          50,
          50,
          45,
          200,
          200,
          200,
          350,
          200,
          200,
          200,
          350,
          200,
          350,
          200,
          200,
          200,
          200,
          150,
          200,
          350,
          200,
          200,
          200,
          200,
          200,
          200,
          500,
          0,
          750,
          0,
          0,
          0,
          750,
          2500,
          0,
          0,
          0,
          0,
          0,
          5000,
          0,
          0,
          0,
          0,
          0,
          950,
          0,
          0,
          750,
          0,
          0,
          0,
          0,
          0.01,
          750,
          1000,
          1250,
          0,
          0,
          0,
          750,
          750,
          750,
          0,
          0,
          750,
          750,
          750,
          750,
          750,
          750,
          500,
          500,
          500,
          1250,
          1000,
          1000,
          1000,
          150,
          150,
          150,
          150,
          150,
          150,
          150,
          150,
          150,
          150,
          150,
          150,
          150,
          150,
          150,
          150,
          150,
          150,
          150,
          150,
          150,
          150,
          500,
          1250,
          500,
          1000,
          750,
          1000,
          2500,
          1250,
          1000,
          500,
          1000,
          2500,
          1250,
          1000,
          1250,
          500,
          1000,
          750,
          500,
          550,
          50,
          800,
          50,
          50,
          50,
          800,
          2550,
          50,
          50,
          50,
          50,
          5050,
          50,
          50,
          50,
          50,
          50,
          1000,
          50,
          50,
          800,
          50,
          50,
          50,
          50,
          50,
          800,
          1050,
          1300,
          50,
          50,
          50,
          50,
          800,
          800,
          50,
          50,
          50,
          800,
          800,
          800,
          800,
          800,
          550,
          550,
          550,
          1300,
          1050,
          1050,
          1050,
          200,
          200,
          200,
          200,
          200,
          200,
          200,
          200,
          200,
          200,
          200,
          200,
          200,
          200,
          200,
          200,
          200,
          200,
          200,
          200,
          200,
          200,
          550,
          1300,
          550,
          1050,
          800,
          1050,
          2550,
          1300,
          1050,
          550,
          1050,
          2550,
          1300,
          1050,
          1300,
          550,
          1050,
          800,
          550,
          550,
          550,
          50,
          800,
          50,
          50,
          50,
          800,
          2550,
          50,
          150,
          50,
          50,
          5050,
          50,
          50,
          50,
          50,
          50,
          1000,
          50,
          50,
          800,
          50,
          50,
          50,
          50,
          50,
          800,
          500,
          1300,
          50,
          50,
          50,
          50,
          650,
          800,
          50,
          50,
          50,
          650,
          800,
          800,
          650,
          800,
          550,
          550,
          550,
          1300,
          1050,
          1050,
          1050,
          200,
          200,
          200,
          350,
          200,
          200,
          200,
          350,
          150,
          350,
          200,
          200,
          150,
          200,
          150,
          200,
          200,
          200,
          200,
          200,
          200,
          550,
          1300,
          550,
          1050,
          800,
          1050,
          2550,
          1300,
          1050,
          550,
          1050,
          2550,
          1300,
          1050,
          1300,
          550,
          1050,
          800,
          550
         ],
         "yaxis": "y"
        }
       ],
       "layout": {
        "legend": {
         "tracegroupgap": 0
        },
        "margin": {
         "t": 60
        },
        "template": {
         "data": {
          "bar": [
           {
            "error_x": {
             "color": "#2a3f5f"
            },
            "error_y": {
             "color": "#2a3f5f"
            },
            "marker": {
             "line": {
              "color": "#E5ECF6",
              "width": 0.5
             },
             "pattern": {
              "fillmode": "overlay",
              "size": 10,
              "solidity": 0.2
             }
            },
            "type": "bar"
           }
          ],
          "barpolar": [
           {
            "marker": {
             "line": {
              "color": "#E5ECF6",
              "width": 0.5
             },
             "pattern": {
              "fillmode": "overlay",
              "size": 10,
              "solidity": 0.2
             }
            },
            "type": "barpolar"
           }
          ],
          "carpet": [
           {
            "aaxis": {
             "endlinecolor": "#2a3f5f",
             "gridcolor": "white",
             "linecolor": "white",
             "minorgridcolor": "white",
             "startlinecolor": "#2a3f5f"
            },
            "baxis": {
             "endlinecolor": "#2a3f5f",
             "gridcolor": "white",
             "linecolor": "white",
             "minorgridcolor": "white",
             "startlinecolor": "#2a3f5f"
            },
            "type": "carpet"
           }
          ],
          "choropleth": [
           {
            "colorbar": {
             "outlinewidth": 0,
             "ticks": ""
            },
            "type": "choropleth"
           }
          ],
          "contour": [
           {
            "colorbar": {
             "outlinewidth": 0,
             "ticks": ""
            },
            "colorscale": [
             [
              0,
              "#0d0887"
             ],
             [
              0.1111111111111111,
              "#46039f"
             ],
             [
              0.2222222222222222,
              "#7201a8"
             ],
             [
              0.3333333333333333,
              "#9c179e"
             ],
             [
              0.4444444444444444,
              "#bd3786"
             ],
             [
              0.5555555555555556,
              "#d8576b"
             ],
             [
              0.6666666666666666,
              "#ed7953"
             ],
             [
              0.7777777777777778,
              "#fb9f3a"
             ],
             [
              0.8888888888888888,
              "#fdca26"
             ],
             [
              1,
              "#f0f921"
             ]
            ],
            "type": "contour"
           }
          ],
          "contourcarpet": [
           {
            "colorbar": {
             "outlinewidth": 0,
             "ticks": ""
            },
            "type": "contourcarpet"
           }
          ],
          "heatmap": [
           {
            "colorbar": {
             "outlinewidth": 0,
             "ticks": ""
            },
            "colorscale": [
             [
              0,
              "#0d0887"
             ],
             [
              0.1111111111111111,
              "#46039f"
             ],
             [
              0.2222222222222222,
              "#7201a8"
             ],
             [
              0.3333333333333333,
              "#9c179e"
             ],
             [
              0.4444444444444444,
              "#bd3786"
             ],
             [
              0.5555555555555556,
              "#d8576b"
             ],
             [
              0.6666666666666666,
              "#ed7953"
             ],
             [
              0.7777777777777778,
              "#fb9f3a"
             ],
             [
              0.8888888888888888,
              "#fdca26"
             ],
             [
              1,
              "#f0f921"
             ]
            ],
            "type": "heatmap"
           }
          ],
          "heatmapgl": [
           {
            "colorbar": {
             "outlinewidth": 0,
             "ticks": ""
            },
            "colorscale": [
             [
              0,
              "#0d0887"
             ],
             [
              0.1111111111111111,
              "#46039f"
             ],
             [
              0.2222222222222222,
              "#7201a8"
             ],
             [
              0.3333333333333333,
              "#9c179e"
             ],
             [
              0.4444444444444444,
              "#bd3786"
             ],
             [
              0.5555555555555556,
              "#d8576b"
             ],
             [
              0.6666666666666666,
              "#ed7953"
             ],
             [
              0.7777777777777778,
              "#fb9f3a"
             ],
             [
              0.8888888888888888,
              "#fdca26"
             ],
             [
              1,
              "#f0f921"
             ]
            ],
            "type": "heatmapgl"
           }
          ],
          "histogram": [
           {
            "marker": {
             "pattern": {
              "fillmode": "overlay",
              "size": 10,
              "solidity": 0.2
             }
            },
            "type": "histogram"
           }
          ],
          "histogram2d": [
           {
            "colorbar": {
             "outlinewidth": 0,
             "ticks": ""
            },
            "colorscale": [
             [
              0,
              "#0d0887"
             ],
             [
              0.1111111111111111,
              "#46039f"
             ],
             [
              0.2222222222222222,
              "#7201a8"
             ],
             [
              0.3333333333333333,
              "#9c179e"
             ],
             [
              0.4444444444444444,
              "#bd3786"
             ],
             [
              0.5555555555555556,
              "#d8576b"
             ],
             [
              0.6666666666666666,
              "#ed7953"
             ],
             [
              0.7777777777777778,
              "#fb9f3a"
             ],
             [
              0.8888888888888888,
              "#fdca26"
             ],
             [
              1,
              "#f0f921"
             ]
            ],
            "type": "histogram2d"
           }
          ],
          "histogram2dcontour": [
           {
            "colorbar": {
             "outlinewidth": 0,
             "ticks": ""
            },
            "colorscale": [
             [
              0,
              "#0d0887"
             ],
             [
              0.1111111111111111,
              "#46039f"
             ],
             [
              0.2222222222222222,
              "#7201a8"
             ],
             [
              0.3333333333333333,
              "#9c179e"
             ],
             [
              0.4444444444444444,
              "#bd3786"
             ],
             [
              0.5555555555555556,
              "#d8576b"
             ],
             [
              0.6666666666666666,
              "#ed7953"
             ],
             [
              0.7777777777777778,
              "#fb9f3a"
             ],
             [
              0.8888888888888888,
              "#fdca26"
             ],
             [
              1,
              "#f0f921"
             ]
            ],
            "type": "histogram2dcontour"
           }
          ],
          "mesh3d": [
           {
            "colorbar": {
             "outlinewidth": 0,
             "ticks": ""
            },
            "type": "mesh3d"
           }
          ],
          "parcoords": [
           {
            "line": {
             "colorbar": {
              "outlinewidth": 0,
              "ticks": ""
             }
            },
            "type": "parcoords"
           }
          ],
          "pie": [
           {
            "automargin": true,
            "type": "pie"
           }
          ],
          "scatter": [
           {
            "fillpattern": {
             "fillmode": "overlay",
             "size": 10,
             "solidity": 0.2
            },
            "type": "scatter"
           }
          ],
          "scatter3d": [
           {
            "line": {
             "colorbar": {
              "outlinewidth": 0,
              "ticks": ""
             }
            },
            "marker": {
             "colorbar": {
              "outlinewidth": 0,
              "ticks": ""
             }
            },
            "type": "scatter3d"
           }
          ],
          "scattercarpet": [
           {
            "marker": {
             "colorbar": {
              "outlinewidth": 0,
              "ticks": ""
             }
            },
            "type": "scattercarpet"
           }
          ],
          "scattergeo": [
           {
            "marker": {
             "colorbar": {
              "outlinewidth": 0,
              "ticks": ""
             }
            },
            "type": "scattergeo"
           }
          ],
          "scattergl": [
           {
            "marker": {
             "colorbar": {
              "outlinewidth": 0,
              "ticks": ""
             }
            },
            "type": "scattergl"
           }
          ],
          "scattermapbox": [
           {
            "marker": {
             "colorbar": {
              "outlinewidth": 0,
              "ticks": ""
             }
            },
            "type": "scattermapbox"
           }
          ],
          "scatterpolar": [
           {
            "marker": {
             "colorbar": {
              "outlinewidth": 0,
              "ticks": ""
             }
            },
            "type": "scatterpolar"
           }
          ],
          "scatterpolargl": [
           {
            "marker": {
             "colorbar": {
              "outlinewidth": 0,
              "ticks": ""
             }
            },
            "type": "scatterpolargl"
           }
          ],
          "scatterternary": [
           {
            "marker": {
             "colorbar": {
              "outlinewidth": 0,
              "ticks": ""
             }
            },
            "type": "scatterternary"
           }
          ],
          "surface": [
           {
            "colorbar": {
             "outlinewidth": 0,
             "ticks": ""
            },
            "colorscale": [
             [
              0,
              "#0d0887"
             ],
             [
              0.1111111111111111,
              "#46039f"
             ],
             [
              0.2222222222222222,
              "#7201a8"
             ],
             [
              0.3333333333333333,
              "#9c179e"
             ],
             [
              0.4444444444444444,
              "#bd3786"
             ],
             [
              0.5555555555555556,
              "#d8576b"
             ],
             [
              0.6666666666666666,
              "#ed7953"
             ],
             [
              0.7777777777777778,
              "#fb9f3a"
             ],
             [
              0.8888888888888888,
              "#fdca26"
             ],
             [
              1,
              "#f0f921"
             ]
            ],
            "type": "surface"
           }
          ],
          "table": [
           {
            "cells": {
             "fill": {
              "color": "#EBF0F8"
             },
             "line": {
              "color": "white"
             }
            },
            "header": {
             "fill": {
              "color": "#C8D4E3"
             },
             "line": {
              "color": "white"
             }
            },
            "type": "table"
           }
          ]
         },
         "layout": {
          "annotationdefaults": {
           "arrowcolor": "#2a3f5f",
           "arrowhead": 0,
           "arrowwidth": 1
          },
          "autotypenumbers": "strict",
          "coloraxis": {
           "colorbar": {
            "outlinewidth": 0,
            "ticks": ""
           }
          },
          "colorscale": {
           "diverging": [
            [
             0,
             "#8e0152"
            ],
            [
             0.1,
             "#c51b7d"
            ],
            [
             0.2,
             "#de77ae"
            ],
            [
             0.3,
             "#f1b6da"
            ],
            [
             0.4,
             "#fde0ef"
            ],
            [
             0.5,
             "#f7f7f7"
            ],
            [
             0.6,
             "#e6f5d0"
            ],
            [
             0.7,
             "#b8e186"
            ],
            [
             0.8,
             "#7fbc41"
            ],
            [
             0.9,
             "#4d9221"
            ],
            [
             1,
             "#276419"
            ]
           ],
           "sequential": [
            [
             0,
             "#0d0887"
            ],
            [
             0.1111111111111111,
             "#46039f"
            ],
            [
             0.2222222222222222,
             "#7201a8"
            ],
            [
             0.3333333333333333,
             "#9c179e"
            ],
            [
             0.4444444444444444,
             "#bd3786"
            ],
            [
             0.5555555555555556,
             "#d8576b"
            ],
            [
             0.6666666666666666,
             "#ed7953"
            ],
            [
             0.7777777777777778,
             "#fb9f3a"
            ],
            [
             0.8888888888888888,
             "#fdca26"
            ],
            [
             1,
             "#f0f921"
            ]
           ],
           "sequentialminus": [
            [
             0,
             "#0d0887"
            ],
            [
             0.1111111111111111,
             "#46039f"
            ],
            [
             0.2222222222222222,
             "#7201a8"
            ],
            [
             0.3333333333333333,
             "#9c179e"
            ],
            [
             0.4444444444444444,
             "#bd3786"
            ],
            [
             0.5555555555555556,
             "#d8576b"
            ],
            [
             0.6666666666666666,
             "#ed7953"
            ],
            [
             0.7777777777777778,
             "#fb9f3a"
            ],
            [
             0.8888888888888888,
             "#fdca26"
            ],
            [
             1,
             "#f0f921"
            ]
           ]
          },
          "colorway": [
           "#636efa",
           "#EF553B",
           "#00cc96",
           "#ab63fa",
           "#FFA15A",
           "#19d3f3",
           "#FF6692",
           "#B6E880",
           "#FF97FF",
           "#FECB52"
          ],
          "font": {
           "color": "#2a3f5f"
          },
          "geo": {
           "bgcolor": "white",
           "lakecolor": "white",
           "landcolor": "#E5ECF6",
           "showlakes": true,
           "showland": true,
           "subunitcolor": "white"
          },
          "hoverlabel": {
           "align": "left"
          },
          "hovermode": "closest",
          "mapbox": {
           "style": "light"
          },
          "paper_bgcolor": "white",
          "plot_bgcolor": "#E5ECF6",
          "polar": {
           "angularaxis": {
            "gridcolor": "white",
            "linecolor": "white",
            "ticks": ""
           },
           "bgcolor": "#E5ECF6",
           "radialaxis": {
            "gridcolor": "white",
            "linecolor": "white",
            "ticks": ""
           }
          },
          "scene": {
           "xaxis": {
            "backgroundcolor": "#E5ECF6",
            "gridcolor": "white",
            "gridwidth": 2,
            "linecolor": "white",
            "showbackground": true,
            "ticks": "",
            "zerolinecolor": "white"
           },
           "yaxis": {
            "backgroundcolor": "#E5ECF6",
            "gridcolor": "white",
            "gridwidth": 2,
            "linecolor": "white",
            "showbackground": true,
            "ticks": "",
            "zerolinecolor": "white"
           },
           "zaxis": {
            "backgroundcolor": "#E5ECF6",
            "gridcolor": "white",
            "gridwidth": 2,
            "linecolor": "white",
            "showbackground": true,
            "ticks": "",
            "zerolinecolor": "white"
           }
          },
          "shapedefaults": {
           "line": {
            "color": "#2a3f5f"
           }
          },
          "ternary": {
           "aaxis": {
            "gridcolor": "white",
            "linecolor": "white",
            "ticks": ""
           },
           "baxis": {
            "gridcolor": "white",
            "linecolor": "white",
            "ticks": ""
           },
           "bgcolor": "#E5ECF6",
           "caxis": {
            "gridcolor": "white",
            "linecolor": "white",
            "ticks": ""
           }
          },
          "title": {
           "x": 0.05
          },
          "xaxis": {
           "automargin": true,
           "gridcolor": "white",
           "linecolor": "white",
           "ticks": "",
           "title": {
            "standoff": 15
           },
           "zerolinecolor": "white",
           "zerolinewidth": 2
          },
          "yaxis": {
           "automargin": true,
           "gridcolor": "white",
           "linecolor": "white",
           "ticks": "",
           "title": {
            "standoff": 15
           },
           "zerolinecolor": "white",
           "zerolinewidth": 2
          }
         }
        },
        "title": {
         "text": "TotalDiscount"
        },
        "xaxis": {
         "anchor": "y",
         "domain": [
          0,
          1
         ],
         "title": {
          "text": "CostPrice"
         }
        },
        "yaxis": {
         "anchor": "x",
         "domain": [
          0,
          1
         ],
         "title": {
          "text": "TotalDiscount"
         }
        }
       }
      },
      "text/html": [
       "<div>                            <div id=\"d5d8732c-4407-43eb-bbbf-974176ede893\" class=\"plotly-graph-div\" style=\"height:525px; width:100%;\"></div>            <script type=\"text/javascript\">                require([\"plotly\"], function(Plotly) {                    window.PLOTLYENV=window.PLOTLYENV || {};                                    if (document.getElementById(\"d5d8732c-4407-43eb-bbbf-974176ede893\")) {                    Plotly.newPlot(                        \"d5d8732c-4407-43eb-bbbf-974176ede893\",                        [{\"hovertemplate\":\"CostPrice=%{x}<br>TotalDiscount=%{y}<extra></extra>\",\"legendgroup\":\"\",\"marker\":{\"color\":\"turquoise\",\"symbol\":\"circle\",\"line\":{\"color\":\"rgb(8,4,107)\",\"width\":1.5}},\"mode\":\"markers\",\"name\":\"\",\"orientation\":\"v\",\"showlegend\":false,\"x\":[125000,25000,37500,25000,37500,25000,37500,25000,25000,37500,25000,37500,25000,37500,25000,12500,25000,37500,25000,25700,25700,62000,62000,62000,25700,25700,25700,25700,62000,62000,25700,130000,30000,42500,30000,42500,30000,42500,30000,30000,42500,30000,42500,30000,42500,30000,17500,30000,42500,30000,30700,30700,67000,67000,67000,30700,30700,30700,30700,67000,67000,30700,130000,30000,42500,30000,42500,30000,42500,30000,30000,42500,30000,42500,30000,42500,30000,17500,30000,42500,30000,30700,30700,67000,67000,67000,30700,30700,30700,30700,67000,67000,30700,62000,62000,62000,75890,37500,37500,37500,37500,37500,37500,37500,37500,37500,37500,37500,37500,62000,62000,62000,62000,4500,4500,8500,8500,4500,8500,17000,8500,17000,17000,67000,67000,67000,80890,42500,42500,42500,42500,42500,42500,42500,42500,42500,42500,42500,42500,67000,67000,67000,67000,9500,9500,13500,13500,9500,13500,22000,13500,22000,22000,67000,67000,67000,80890,42500,42500,42500,42500,42500,42500,42500,42500,42500,42500,42500,67000,67000,67000,67000,9500,9500,13500,13500,9500,22000,22000,22000,50000,75000,75000,88000,62000,125000,56000,23500,15500,75890,99000,125000,125000,155000,125000,62000,62000,75890,62000,75890,75890,75890,75890,62000,75890,75890,75890,75890,62000,62000,62000,62000,62000,125000,50000,25000,37500,25000,37500,37500,25700,25700,25700,25700,62000,62000,25700,62000,62000,62000,25700,25700,25700,25700,25700,25700,25700,25700,62000,25700,8500,4500,8500,4500,8500,4500,4500,8500,17000,17000,17000,17000,17000,17000,31125,17500,22500,17500,31125,17500,22500,17500,17500,17500,22500,17500,17500,22500,17500,17500,31125,17500,17500,55000,80000,80000,93000,67000,130000,61000,28500,20500,80890,104000,130000,130000,160000,130000,67000,67000,80890,67000,80890,80890,80890,80890,67000,80890,80890,80890,80890,67000,67000,67000,67000,67000,130000,55000,30000,42500,30000,42500,42500,30700,30700,30700,30700,67000,67000,30700,67000,67000,67000,30700,30700,30700,30700,30700,30700,30700,30700,67000,30700,13500,9500,13500,9500,13500,9500,9500,13500,22000,22000,22000,22000,22000,22000,36125,22500,27500,22500,36125,22500,27500,22500,22500,22500,27500,22500,22500,27500,22500,22500,36125,22500,22500,55000,80000,80000,93000,67000,130000,61000,28500,20500,80890,104000,130000,130000,160000,130000,67000,67000,80890,67000,80890,80890,80890,80890,67000,80890,80890,80890,80890,67000,67000,67000,67000,67000,130000,55000,30000,42500,30000,42500,42500,30700,30700,30700,30700,67000,67000,30700,67000,67000,67000,30700,30700,30700,30700,30700,30700,30700,67000,30700,13500,9500,13500,9500,13500,9500,9500,13500,22000,22000,22000,22000,22000,22000,36125,22500,27500,22500,36125,22500,27500,22500,22500,22500,27500,22500,22500,27500,22500,22500,36125,22500],\"xaxis\":\"x\",\"y\":[0.0,500.0,500.0,500.0,500.0,500.0,500.0,500.0,0.0,0.0,750.0,750.0,750.0,500.0,500.0,500.0,500.0,750.0,750.0,500.0,500.0,500.0,500.0,500.0,500.0,500.0,500.0,500.0,500.0,500.0,500.0,550.0,550.0,550.0,550.0,550.0,550.0,550.0,800.0,50.0,800.0,800.0,800.0,550.0,550.0,550.0,550.0,800.0,800.0,800.0,550.0,550.0,550.0,550.0,550.0,550.0,550.0,550.0,550.0,550.0,550.0,550.0,550.0,550.0,50.0,50.0,50.0,550.0,550.0,800.0,50.0,800.0,650.0,650.0,550.0,550.0,550.0,550.0,650.0,800.0,800.0,550.0,550.0,550.0,550.0,400.0,550.0,400.0,550.0,550.0,400.0,550.0,550.0,0.0,1750.0,0.0,0.0,150.0,150.0,150.0,150.0,150.0,150.0,150.0,150.0,150.0,150.0,150.0,150.0,150.0,150.0,150.0,150.0,150.0,150.0,150.0,150.0,150.0,150.0,150.0,150.0,150.0,150.0,1800.0,50.0,50.0,50.01,200.0,200.0,200.0,200.0,200.0,200.0,200.0,200.0,200.0,200.0,200.0,200.0,200.0,200.0,200.0,200.0,200.0,200.0,200.0,200.0,200.0,200.0,200.0,200.0,200.0,200.0,1800.0,50.0,50.0,45.0,200.0,200.0,200.0,350.0,200.0,200.0,200.0,350.0,200.0,350.0,200.0,200.0,200.0,200.0,150.0,200.0,350.0,200.0,200.0,200.0,200.0,200.0,200.0,500.0,0.0,750.0,0.0,0.0,0.0,750.0,2500.0,0.0,0.0,0.0,0.0,0.0,5000.0,0.0,0.0,0.0,0.0,0.0,950.0,0.0,0.0,750.0,0.0,0.0,0.0,0.0,0.01,750.0,1000.0,1250.0,0.0,0.0,0.0,750.0,750.0,750.0,0.0,0.0,750.0,750.0,750.0,750.0,750.0,750.0,500.0,500.0,500.0,1250.0,1000.0,1000.0,1000.0,150.0,150.0,150.0,150.0,150.0,150.0,150.0,150.0,150.0,150.0,150.0,150.0,150.0,150.0,150.0,150.0,150.0,150.0,150.0,150.0,150.0,150.0,500.0,1250.0,500.0,1000.0,750.0,1000.0,2500.0,1250.0,1000.0,500.0,1000.0,2500.0,1250.0,1000.0,1250.0,500.0,1000.0,750.0,500.0,550.0,50.0,800.0,50.0,50.0,50.0,800.0,2550.0,50.0,50.0,50.0,50.0,5050.0,50.0,50.0,50.0,50.0,50.0,1000.0,50.0,50.0,800.0,50.0,50.0,50.0,50.0,50.0,800.0,1050.0,1300.0,50.0,50.0,50.0,50.0,800.0,800.0,50.0,50.0,50.0,800.0,800.0,800.0,800.0,800.0,550.0,550.0,550.0,1300.0,1050.0,1050.0,1050.0,200.0,200.0,200.0,200.0,200.0,200.0,200.0,200.0,200.0,200.0,200.0,200.0,200.0,200.0,200.0,200.0,200.0,200.0,200.0,200.0,200.0,200.0,550.0,1300.0,550.0,1050.0,800.0,1050.0,2550.0,1300.0,1050.0,550.0,1050.0,2550.0,1300.0,1050.0,1300.0,550.0,1050.0,800.0,550.0,550.0,550.0,50.0,800.0,50.0,50.0,50.0,800.0,2550.0,50.0,150.0,50.0,50.0,5050.0,50.0,50.0,50.0,50.0,50.0,1000.0,50.0,50.0,800.0,50.0,50.0,50.0,50.0,50.0,800.0,500.0,1300.0,50.0,50.0,50.0,50.0,650.0,800.0,50.0,50.0,50.0,650.0,800.0,800.0,650.0,800.0,550.0,550.0,550.0,1300.0,1050.0,1050.0,1050.0,200.0,200.0,200.0,350.0,200.0,200.0,200.0,350.0,150.0,350.0,200.0,200.0,150.0,200.0,150.0,200.0,200.0,200.0,200.0,200.0,200.0,550.0,1300.0,550.0,1050.0,800.0,1050.0,2550.0,1300.0,1050.0,550.0,1050.0,2550.0,1300.0,1050.0,1300.0,550.0,1050.0,800.0,550.0],\"yaxis\":\"y\",\"type\":\"scatter\"}],                        {\"template\":{\"data\":{\"histogram2dcontour\":[{\"type\":\"histogram2dcontour\",\"colorbar\":{\"outlinewidth\":0,\"ticks\":\"\"},\"colorscale\":[[0.0,\"#0d0887\"],[0.1111111111111111,\"#46039f\"],[0.2222222222222222,\"#7201a8\"],[0.3333333333333333,\"#9c179e\"],[0.4444444444444444,\"#bd3786\"],[0.5555555555555556,\"#d8576b\"],[0.6666666666666666,\"#ed7953\"],[0.7777777777777778,\"#fb9f3a\"],[0.8888888888888888,\"#fdca26\"],[1.0,\"#f0f921\"]]}],\"choropleth\":[{\"type\":\"choropleth\",\"colorbar\":{\"outlinewidth\":0,\"ticks\":\"\"}}],\"histogram2d\":[{\"type\":\"histogram2d\",\"colorbar\":{\"outlinewidth\":0,\"ticks\":\"\"},\"colorscale\":[[0.0,\"#0d0887\"],[0.1111111111111111,\"#46039f\"],[0.2222222222222222,\"#7201a8\"],[0.3333333333333333,\"#9c179e\"],[0.4444444444444444,\"#bd3786\"],[0.5555555555555556,\"#d8576b\"],[0.6666666666666666,\"#ed7953\"],[0.7777777777777778,\"#fb9f3a\"],[0.8888888888888888,\"#fdca26\"],[1.0,\"#f0f921\"]]}],\"heatmap\":[{\"type\":\"heatmap\",\"colorbar\":{\"outlinewidth\":0,\"ticks\":\"\"},\"colorscale\":[[0.0,\"#0d0887\"],[0.1111111111111111,\"#46039f\"],[0.2222222222222222,\"#7201a8\"],[0.3333333333333333,\"#9c179e\"],[0.4444444444444444,\"#bd3786\"],[0.5555555555555556,\"#d8576b\"],[0.6666666666666666,\"#ed7953\"],[0.7777777777777778,\"#fb9f3a\"],[0.8888888888888888,\"#fdca26\"],[1.0,\"#f0f921\"]]}],\"heatmapgl\":[{\"type\":\"heatmapgl\",\"colorbar\":{\"outlinewidth\":0,\"ticks\":\"\"},\"colorscale\":[[0.0,\"#0d0887\"],[0.1111111111111111,\"#46039f\"],[0.2222222222222222,\"#7201a8\"],[0.3333333333333333,\"#9c179e\"],[0.4444444444444444,\"#bd3786\"],[0.5555555555555556,\"#d8576b\"],[0.6666666666666666,\"#ed7953\"],[0.7777777777777778,\"#fb9f3a\"],[0.8888888888888888,\"#fdca26\"],[1.0,\"#f0f921\"]]}],\"contourcarpet\":[{\"type\":\"contourcarpet\",\"colorbar\":{\"outlinewidth\":0,\"ticks\":\"\"}}],\"contour\":[{\"type\":\"contour\",\"colorbar\":{\"outlinewidth\":0,\"ticks\":\"\"},\"colorscale\":[[0.0,\"#0d0887\"],[0.1111111111111111,\"#46039f\"],[0.2222222222222222,\"#7201a8\"],[0.3333333333333333,\"#9c179e\"],[0.4444444444444444,\"#bd3786\"],[0.5555555555555556,\"#d8576b\"],[0.6666666666666666,\"#ed7953\"],[0.7777777777777778,\"#fb9f3a\"],[0.8888888888888888,\"#fdca26\"],[1.0,\"#f0f921\"]]}],\"surface\":[{\"type\":\"surface\",\"colorbar\":{\"outlinewidth\":0,\"ticks\":\"\"},\"colorscale\":[[0.0,\"#0d0887\"],[0.1111111111111111,\"#46039f\"],[0.2222222222222222,\"#7201a8\"],[0.3333333333333333,\"#9c179e\"],[0.4444444444444444,\"#bd3786\"],[0.5555555555555556,\"#d8576b\"],[0.6666666666666666,\"#ed7953\"],[0.7777777777777778,\"#fb9f3a\"],[0.8888888888888888,\"#fdca26\"],[1.0,\"#f0f921\"]]}],\"mesh3d\":[{\"type\":\"mesh3d\",\"colorbar\":{\"outlinewidth\":0,\"ticks\":\"\"}}],\"scatter\":[{\"fillpattern\":{\"fillmode\":\"overlay\",\"size\":10,\"solidity\":0.2},\"type\":\"scatter\"}],\"parcoords\":[{\"type\":\"parcoords\",\"line\":{\"colorbar\":{\"outlinewidth\":0,\"ticks\":\"\"}}}],\"scatterpolargl\":[{\"type\":\"scatterpolargl\",\"marker\":{\"colorbar\":{\"outlinewidth\":0,\"ticks\":\"\"}}}],\"bar\":[{\"error_x\":{\"color\":\"#2a3f5f\"},\"error_y\":{\"color\":\"#2a3f5f\"},\"marker\":{\"line\":{\"color\":\"#E5ECF6\",\"width\":0.5},\"pattern\":{\"fillmode\":\"overlay\",\"size\":10,\"solidity\":0.2}},\"type\":\"bar\"}],\"scattergeo\":[{\"type\":\"scattergeo\",\"marker\":{\"colorbar\":{\"outlinewidth\":0,\"ticks\":\"\"}}}],\"scatterpolar\":[{\"type\":\"scatterpolar\",\"marker\":{\"colorbar\":{\"outlinewidth\":0,\"ticks\":\"\"}}}],\"histogram\":[{\"marker\":{\"pattern\":{\"fillmode\":\"overlay\",\"size\":10,\"solidity\":0.2}},\"type\":\"histogram\"}],\"scattergl\":[{\"type\":\"scattergl\",\"marker\":{\"colorbar\":{\"outlinewidth\":0,\"ticks\":\"\"}}}],\"scatter3d\":[{\"type\":\"scatter3d\",\"line\":{\"colorbar\":{\"outlinewidth\":0,\"ticks\":\"\"}},\"marker\":{\"colorbar\":{\"outlinewidth\":0,\"ticks\":\"\"}}}],\"scattermapbox\":[{\"type\":\"scattermapbox\",\"marker\":{\"colorbar\":{\"outlinewidth\":0,\"ticks\":\"\"}}}],\"scatterternary\":[{\"type\":\"scatterternary\",\"marker\":{\"colorbar\":{\"outlinewidth\":0,\"ticks\":\"\"}}}],\"scattercarpet\":[{\"type\":\"scattercarpet\",\"marker\":{\"colorbar\":{\"outlinewidth\":0,\"ticks\":\"\"}}}],\"carpet\":[{\"aaxis\":{\"endlinecolor\":\"#2a3f5f\",\"gridcolor\":\"white\",\"linecolor\":\"white\",\"minorgridcolor\":\"white\",\"startlinecolor\":\"#2a3f5f\"},\"baxis\":{\"endlinecolor\":\"#2a3f5f\",\"gridcolor\":\"white\",\"linecolor\":\"white\",\"minorgridcolor\":\"white\",\"startlinecolor\":\"#2a3f5f\"},\"type\":\"carpet\"}],\"table\":[{\"cells\":{\"fill\":{\"color\":\"#EBF0F8\"},\"line\":{\"color\":\"white\"}},\"header\":{\"fill\":{\"color\":\"#C8D4E3\"},\"line\":{\"color\":\"white\"}},\"type\":\"table\"}],\"barpolar\":[{\"marker\":{\"line\":{\"color\":\"#E5ECF6\",\"width\":0.5},\"pattern\":{\"fillmode\":\"overlay\",\"size\":10,\"solidity\":0.2}},\"type\":\"barpolar\"}],\"pie\":[{\"automargin\":true,\"type\":\"pie\"}]},\"layout\":{\"autotypenumbers\":\"strict\",\"colorway\":[\"#636efa\",\"#EF553B\",\"#00cc96\",\"#ab63fa\",\"#FFA15A\",\"#19d3f3\",\"#FF6692\",\"#B6E880\",\"#FF97FF\",\"#FECB52\"],\"font\":{\"color\":\"#2a3f5f\"},\"hovermode\":\"closest\",\"hoverlabel\":{\"align\":\"left\"},\"paper_bgcolor\":\"white\",\"plot_bgcolor\":\"#E5ECF6\",\"polar\":{\"bgcolor\":\"#E5ECF6\",\"angularaxis\":{\"gridcolor\":\"white\",\"linecolor\":\"white\",\"ticks\":\"\"},\"radialaxis\":{\"gridcolor\":\"white\",\"linecolor\":\"white\",\"ticks\":\"\"}},\"ternary\":{\"bgcolor\":\"#E5ECF6\",\"aaxis\":{\"gridcolor\":\"white\",\"linecolor\":\"white\",\"ticks\":\"\"},\"baxis\":{\"gridcolor\":\"white\",\"linecolor\":\"white\",\"ticks\":\"\"},\"caxis\":{\"gridcolor\":\"white\",\"linecolor\":\"white\",\"ticks\":\"\"}},\"coloraxis\":{\"colorbar\":{\"outlinewidth\":0,\"ticks\":\"\"}},\"colorscale\":{\"sequential\":[[0.0,\"#0d0887\"],[0.1111111111111111,\"#46039f\"],[0.2222222222222222,\"#7201a8\"],[0.3333333333333333,\"#9c179e\"],[0.4444444444444444,\"#bd3786\"],[0.5555555555555556,\"#d8576b\"],[0.6666666666666666,\"#ed7953\"],[0.7777777777777778,\"#fb9f3a\"],[0.8888888888888888,\"#fdca26\"],[1.0,\"#f0f921\"]],\"sequentialminus\":[[0.0,\"#0d0887\"],[0.1111111111111111,\"#46039f\"],[0.2222222222222222,\"#7201a8\"],[0.3333333333333333,\"#9c179e\"],[0.4444444444444444,\"#bd3786\"],[0.5555555555555556,\"#d8576b\"],[0.6666666666666666,\"#ed7953\"],[0.7777777777777778,\"#fb9f3a\"],[0.8888888888888888,\"#fdca26\"],[1.0,\"#f0f921\"]],\"diverging\":[[0,\"#8e0152\"],[0.1,\"#c51b7d\"],[0.2,\"#de77ae\"],[0.3,\"#f1b6da\"],[0.4,\"#fde0ef\"],[0.5,\"#f7f7f7\"],[0.6,\"#e6f5d0\"],[0.7,\"#b8e186\"],[0.8,\"#7fbc41\"],[0.9,\"#4d9221\"],[1,\"#276419\"]]},\"xaxis\":{\"gridcolor\":\"white\",\"linecolor\":\"white\",\"ticks\":\"\",\"title\":{\"standoff\":15},\"zerolinecolor\":\"white\",\"automargin\":true,\"zerolinewidth\":2},\"yaxis\":{\"gridcolor\":\"white\",\"linecolor\":\"white\",\"ticks\":\"\",\"title\":{\"standoff\":15},\"zerolinecolor\":\"white\",\"automargin\":true,\"zerolinewidth\":2},\"scene\":{\"xaxis\":{\"backgroundcolor\":\"#E5ECF6\",\"gridcolor\":\"white\",\"linecolor\":\"white\",\"showbackground\":true,\"ticks\":\"\",\"zerolinecolor\":\"white\",\"gridwidth\":2},\"yaxis\":{\"backgroundcolor\":\"#E5ECF6\",\"gridcolor\":\"white\",\"linecolor\":\"white\",\"showbackground\":true,\"ticks\":\"\",\"zerolinecolor\":\"white\",\"gridwidth\":2},\"zaxis\":{\"backgroundcolor\":\"#E5ECF6\",\"gridcolor\":\"white\",\"linecolor\":\"white\",\"showbackground\":true,\"ticks\":\"\",\"zerolinecolor\":\"white\",\"gridwidth\":2}},\"shapedefaults\":{\"line\":{\"color\":\"#2a3f5f\"}},\"annotationdefaults\":{\"arrowcolor\":\"#2a3f5f\",\"arrowhead\":0,\"arrowwidth\":1},\"geo\":{\"bgcolor\":\"white\",\"landcolor\":\"#E5ECF6\",\"subunitcolor\":\"white\",\"showland\":true,\"showlakes\":true,\"lakecolor\":\"white\"},\"title\":{\"x\":0.05},\"mapbox\":{\"style\":\"light\"}}},\"xaxis\":{\"anchor\":\"y\",\"domain\":[0.0,1.0],\"title\":{\"text\":\"CostPrice\"}},\"yaxis\":{\"anchor\":\"x\",\"domain\":[0.0,1.0],\"title\":{\"text\":\"TotalDiscount\"}},\"legend\":{\"tracegroupgap\":0},\"margin\":{\"t\":60},\"title\":{\"text\":\"TotalDiscount\"}},                        {\"responsive\": true}                    ).then(function(){\n",
       "                            \n",
       "var gd = document.getElementById('d5d8732c-4407-43eb-bbbf-974176ede893');\n",
       "var x = new MutationObserver(function (mutations, observer) {{\n",
       "        var display = window.getComputedStyle(gd).display;\n",
       "        if (!display || display === 'none') {{\n",
       "            console.log([gd, 'removed!']);\n",
       "            Plotly.purge(gd);\n",
       "            observer.disconnect();\n",
       "        }}\n",
       "}});\n",
       "\n",
       "// Listen for the removal of the full notebook cells\n",
       "var notebookContainer = gd.closest('#notebook-container');\n",
       "if (notebookContainer) {{\n",
       "    x.observe(notebookContainer, {childList: true});\n",
       "}}\n",
       "\n",
       "// Listen for the clearing of the current output cell\n",
       "var outputEl = gd.closest('.output');\n",
       "if (outputEl) {{\n",
       "    x.observe(outputEl, {childList: true});\n",
       "}}\n",
       "\n",
       "                        })                };                });            </script>        </div>"
      ]
     },
     "metadata": {},
     "output_type": "display_data"
    }
   ],
   "source": [
    "fig = px.scatter(df, x='CostPrice', y='TotalDiscount')\n",
    "fig.update_traces(marker_color=\"turquoise\",marker_line_color='rgb(8,4,107)', marker_line_width=1.5)\n",
    "fig.update_layout(title_text='CostPrice' and 'TotalDiscount')\n",
    "fig.show()"
   ]
  },
  {
   "cell_type": "code",
   "execution_count": 76,
   "id": "019d7ffc",
   "metadata": {},
   "outputs": [
    {
     "data": {
      "application/vnd.plotly.v1+json": {
       "config": {
        "plotlyServerURL": "https://plot.ly"
       },
       "data": [
        {
         "alignmentgroup": "True",
         "hovertemplate": "ClientName=%{x}<br>TotalDiscount=%{y}<extra></extra>",
         "legendgroup": "",
         "marker": {
          "color": "midnightblue",
          "line": {
           "color": "rgb(8,48,107)",
           "width": 1.5
          }
         },
         "name": "",
         "notched": false,
         "offsetgroup": "",
         "orientation": "v",
         "showlegend": false,
         "type": "box",
         "x": [
          "Cut'n'Shut",
          "Rocky Riding",
          "Rocky Riding",
          "Voitures Diplomatiques S.A.",
          "Les Arnaqueurs",
          "Bright Orange",
          "Honest John",
          "Wheels'R'Us",
          "Honest John",
          "Bright Orange",
          "Cut'n'Shut",
          "Wheels'R'Us",
          "Crippen & Co",
          "Voitures Diplomatiques S.A.",
          "Rocky Riding",
          "Crippen & Co",
          "Les Arnaqueurs",
          "Wheels'R'Us",
          "Wheels'R'Us",
          "Voitures Diplomatiques S.A.",
          "Rocky Riding",
          "Les Arnaqueurs",
          "Aldo Motors",
          "Honest John",
          "Bright Orange",
          "Cut'n'Shut",
          "Wheels'R'Us",
          "Les Arnaqueurs",
          "Crippen & Co",
          "Rocky Riding",
          "Aldo Motors",
          "Rocky Riding",
          "Rocky Riding",
          "Voitures Diplomatiques S.A.",
          "Les Arnaqueurs",
          "Bright Orange",
          "Honest John",
          "Wheels'R'Us",
          "Cut'n'Shut",
          "Bright Orange",
          "Cut'n'Shut",
          "Wheels'R'Us",
          "Crippen & Co",
          "Voitures Diplomatiques S.A.",
          "Rocky Riding",
          "Crippen & Co",
          "Les Arnaqueurs",
          "Wheels'R'Us",
          "Wheels'R'Us",
          "Cut'n'Shut",
          "Rocky Riding",
          "Les Arnaqueurs",
          "Aldo Motors",
          "Honest John",
          "Bright Orange",
          "Cut'n'Shut",
          "Wheels'R'Us",
          "Les Arnaqueurs",
          "Crippen & Co",
          "Rocky Riding",
          "Aldo Motors",
          "Honest John",
          "Ambassador Cars",
          "Ambassador Cars",
          "Ambassador Cars",
          "Ambassador Cars",
          "Style N Ride",
          "Sporty Types Corp",
          "BritWheels",
          "Sporty Types Corp",
          "Style N Ride",
          "BritWheels",
          "Sporty Types Corp",
          "Union Jack Sports Cars",
          "British Luxury Automobile Corp",
          "Buckingham Palace Car Services",
          "Union Jack Sports Cars",
          "Tweedy Wheels",
          "Sporty Types Corp",
          "Sporty Types Corp",
          "BritWheels",
          "Buckingham Palace Car Services",
          "Tweedy Wheels",
          "Ambassador Cars",
          "Embassy Motors",
          "Style N Ride",
          "BritWheels",
          "Sporty Types Corp",
          "Tweedy Wheels",
          "Union Jack Sports Cars",
          "Buckingham Palace Car Services",
          "Ambassador Cars",
          "Embassy Motors",
          "Aldo Motors",
          "Aldo Motors",
          "Honest John",
          "Bright Orange",
          "Costa Del Speed",
          "Karz",
          "Costa Del Speed",
          "Karz",
          "Voitures Diplomatiques S.A.",
          "Rocky Riding",
          "Honest John",
          "Les Arnaqueurs",
          "Wheels'R'Us",
          "Rocky Riding",
          "Wheels'R'Us",
          "Bright Orange",
          "Smooth Riders",
          "Luxury Rentals",
          "Bright Orange",
          "Cut'n'Shut",
          "Wheels'R'Us",
          "Bright Orange",
          "Honest John",
          "Honest John",
          "Bright Orange",
          "Honest John",
          "Impressive Wheels",
          "Bright Orange",
          "Cut'n'Shut",
          "Olde Englande",
          "Aldo Motors",
          "Honest John",
          "Bright Orange",
          "Bright Orange",
          "Karz",
          "Costa Del Speed",
          "Karz",
          "Voitures Diplomatiques S.A.",
          "Rocky Riding",
          "Honest John",
          "Les Arnaqueurs",
          "Wheels'R'Us",
          "Rocky Riding",
          "Wheels'R'Us",
          "Bright Orange",
          "Olde Englande",
          "Luxury Rentals",
          "Premium Motor Vehicles",
          "Cut'n'Shut",
          "Wheels'R'Us",
          "Olde Englande",
          "Honest John",
          "Aldo Motors",
          "Bright Orange",
          "Aldo Motors",
          "Impressive Wheels",
          "Bright Orange",
          "Costa Del Speed",
          "Wheels'R'Us",
          "Impressive Wheels",
          "Ambassador Cars",
          "Embassy Motors",
          "Style N Ride",
          "Ambassador Cars",
          "Classy Car Sales",
          "Classy Car Sales",
          "British Luxury Automobile Corp",
          "Buckingham Palace Car Services",
          "Embassy Motors",
          "Tweedy Wheels",
          "Sporty Types Corp",
          "Buckingham Palace Car Services",
          "Sporty Types Corp",
          "Style N Ride",
          "BritWheels",
          "BritWheels",
          "BritWheels",
          "BritWheels",
          "Sporty Types Corp",
          "British Luxury Automobile Corp",
          "Embassy Motors",
          "Ambassador Cars",
          "Style N Ride",
          "Ambassador Cars",
          "Style N Ride",
          "Sporty Types Corp",
          "Ambassador Cars",
          "Aldo Motors",
          "Honest John",
          "Bright Orange",
          "Honest John",
          "Wheels'R'Us",
          "Cut'n'Shut",
          "Bright Orange",
          "Les Arnaqueurs",
          "Aldo Motors",
          "Aldo Motors",
          "Aldo Motors",
          "Les Arnaqueurs",
          "Wheels'R'Us",
          "Bright Orange",
          "Cut'n'Shut",
          "Les Arnaqueurs",
          "Wheels'R'Us",
          "Cut'n'Shut",
          "Bright Orange",
          "Honest John",
          "Bright Orange",
          "Wheels'R'Us",
          "Cut'n'Shut",
          "Wheels'R'Us",
          "Wheels'R'Us",
          "Cut'n'Shut",
          "Cut'n'Shut",
          "Bright Orange",
          "Honest John",
          "Aldo Motors",
          "Aldo Motors",
          "Honest John",
          "Bright Orange",
          "Wheels'R'Us",
          "Cut'n'Shut",
          "Rocky Riding",
          "Voitures Diplomatiques S.A.",
          "Aldo Motors",
          "Aldo Motors",
          "Cut'n'Shut",
          "Cut'n'Shut",
          "Bright Orange",
          "Bright Orange",
          "Honest John",
          "Honest John",
          "Aldo Motors",
          "Aldo Motors",
          "Honest John",
          "Les Arnaqueurs",
          "Wheels'R'Us",
          "Honest John",
          "Aldo Motors",
          "Olde Englande",
          "Impressive Wheels",
          "Olde Englande",
          "Premium Motor Vehicles",
          "Luxury Rentals",
          "Aldo Motors",
          "Honest John",
          "Honest John",
          "Olde Englande",
          "Wheels'R'Us",
          "Wheels'R'Us",
          "Cut'n'Shut",
          "Cut'n'Shut",
          "Aldo Motors",
          "Aldo Motors",
          "Luxury Rentals",
          "Smooth Riders",
          "Costa Del Speed",
          "Wheels'R'Us",
          "Impressive Wheels",
          "Cut'n'Shut",
          "Bright Orange",
          "Chateau Moi",
          "Vive la Vitesse!",
          "Carosse Des Papes",
          "Three Country Cars",
          "Jungfrau",
          "Chateau Moi",
          "Vive la Vitesse!",
          "Carosse Des Papes",
          "Three Country Cars",
          "Jungfrau",
          "Chateau Moi",
          "Vive la Vitesse!",
          "Carosse Des Papes",
          "Three Country Cars",
          "Jungfrau",
          "Jungfrau",
          "Vive la Vitesse!",
          "Jungfrau",
          "Carosse Des Papes",
          "Aldo Motors",
          "Honest John",
          "Bright Orange",
          "Honest John",
          "Wheels'R'Us",
          "Cut'n'Shut",
          "Bright Orange",
          "Les Arnaqueurs",
          "Aldo Motors",
          "Aldo Motors",
          "Les Arnaqueurs",
          "Wheels'R'Us",
          "Bright Orange",
          "Cut'n'Shut",
          "Les Arnaqueurs",
          "Wheels'R'Us",
          "Cut'n'Shut",
          "Bright Orange",
          "Honest John",
          "Aldo Motors",
          "Wheels'R'Us",
          "Cut'n'Shut",
          "Wheels'R'Us",
          "Wheels'R'Us",
          "Cut'n'Shut",
          "Cut'n'Shut",
          "Bright Orange",
          "Honest John",
          "Aldo Motors",
          "Aldo Motors",
          "Honest John",
          "Bright Orange",
          "Wheels'R'Us",
          "Cut'n'Shut",
          "Rocky Riding",
          "Voitures Diplomatiques S.A.",
          "Aldo Motors",
          "Aldo Motors",
          "Honest John",
          "Cut'n'Shut",
          "Bright Orange",
          "Bright Orange",
          "Honest John",
          "Honest John",
          "Aldo Motors",
          "Aldo Motors",
          "Voitures Diplomatiques S.A.",
          "Les Arnaqueurs",
          "Wheels'R'Us",
          "Honest John",
          "Aldo Motors",
          "Costa Del Speed",
          "Impressive Wheels",
          "Olde Englande",
          "Smooth Riders",
          "Luxury Rentals",
          "Aldo Motors",
          "Honest John",
          "Honest John",
          "Bright Orange",
          "Wheels'R'Us",
          "Wheels'R'Us",
          "Cut'n'Shut",
          "Cut'n'Shut",
          "Bright Orange",
          "Honest John",
          "Luxury Rentals",
          "Smooth Riders",
          "Honest John",
          "Cut'n'Shut",
          "Olde Englande",
          "Cut'n'Shut",
          "Bright Orange",
          "Chateau Moi",
          "Vive la Vitesse!",
          "Carosse Des Papes",
          "Three Country Cars",
          "Jungfrau",
          "Chateau Moi",
          "Vive la Vitesse!",
          "Carosse Des Papes",
          "Three Country Cars",
          "Jungfrau",
          "Chateau Moi",
          "Vive la Vitesse!",
          "Carosse Des Papes",
          "Three Country Cars",
          "Jungfrau",
          "Jungfrau",
          "Vive la Vitesse!",
          "Jungfrau",
          "Carosse Des Papes",
          "Ambassador Cars",
          "Ambassador Cars",
          "Embassy Motors",
          "Style N Ride",
          "Embassy Motors",
          "Sporty Types Corp",
          "BritWheels",
          "Style N Ride",
          "Tweedy Wheels",
          "Ambassador Cars",
          "Ambassador Cars",
          "Tweedy Wheels",
          "Sporty Types Corp",
          "Style N Ride",
          "BritWheels",
          "Tweedy Wheels",
          "Sporty Types Corp",
          "BritWheels",
          "Style N Ride",
          "Embassy Motors",
          "Ambassador Cars",
          "Sporty Types Corp",
          "BritWheels",
          "Sporty Types Corp",
          "Sporty Types Corp",
          "BritWheels",
          "BritWheels",
          "Style N Ride",
          "Embassy Motors",
          "Style N Ride",
          "Sporty Types Corp",
          "BritWheels",
          "Sporty Types Corp",
          "Sporty Types Corp",
          "BritWheels",
          "Sporty Types Corp",
          "BritWheels",
          "BritWheels",
          "Ambassador Cars",
          "Embassy Motors",
          "BritWheels",
          "Style N Ride",
          "Style N Ride",
          "Embassy Motors",
          "Embassy Motors",
          "Ambassador Cars",
          "Ambassador Cars",
          "British Luxury Automobile Corp",
          "Tweedy Wheels",
          "Sporty Types Corp",
          "Embassy Motors",
          "Ambassador Cars",
          "BritWheels",
          "BritWheels",
          "BritWheels",
          "BritWheels",
          "Ambassador Cars",
          "Embassy Motors",
          "Embassy Motors",
          "Style N Ride",
          "Sporty Types Corp",
          "Sporty Types Corp",
          "BritWheels",
          "BritWheels",
          "Style N Ride",
          "Embassy Motors",
          "Union Jack Sports Cars",
          "Union Jack Sports Cars",
          "Embassy Motors",
          "BritWheels",
          "Style N Ride",
          "Classy Car Sales",
          "British Luxury Automobile Corp",
          "Embassy Motors",
          "BritWheels",
          "Style N Ride",
          "Classy Car Sales",
          "Style N Ride",
          "Style N Ride",
          "Style N Ride",
          "Style N Ride",
          "Ambassador Cars",
          "Tweedy Wheels",
          "Embassy Motors",
          "Union Jack Sports Cars",
          "Style N Ride",
          "Sporty Types Corp",
          "Buckingham Palace Car Services",
          "British Luxury Automobile Corp",
          "Classy Car Sales",
          "Ambassador Cars",
          "Embassy Motors"
         ],
         "x0": " ",
         "xaxis": "x",
         "y": [
          0,
          500,
          500,
          500,
          500,
          500,
          500,
          500,
          0,
          0,
          750,
          750,
          750,
          500,
          500,
          500,
          500,
          750,
          750,
          500,
          500,
          500,
          500,
          500,
          500,
          500,
          500,
          500,
          500,
          500,
          500,
          550,
          550,
          550,
          550,
          550,
          550,
          550,
          800,
          50,
          800,
          800,
          800,
          550,
          550,
          550,
          550,
          800,
          800,
          800,
          550,
          550,
          550,
          550,
          550,
          550,
          550,
          550,
          550,
          550,
          550,
          550,
          550,
          550,
          50,
          50,
          50,
          550,
          550,
          800,
          50,
          800,
          650,
          650,
          550,
          550,
          550,
          550,
          650,
          800,
          800,
          550,
          550,
          550,
          550,
          400,
          550,
          400,
          550,
          550,
          400,
          550,
          550,
          0,
          1750,
          0,
          0,
          150,
          150,
          150,
          150,
          150,
          150,
          150,
          150,
          150,
          150,
          150,
          150,
          150,
          150,
          150,
          150,
          150,
          150,
          150,
          150,
          150,
          150,
          150,
          150,
          150,
          150,
          1800,
          50,
          50,
          50.01,
          200,
          200,
          200,
          200,
          200,
          200,
          200,
          200,
          200,
          200,
          200,
          200,
          200,
          200,
          200,
          200,
          200,
          200,
          200,
          200,
          200,
          200,
          200,
          200,
          200,
          200,
          1800,
          50,
          50,
          45,
          200,
          200,
          200,
          350,
          200,
          200,
          200,
          350,
          200,
          350,
          200,
          200,
          200,
          200,
          150,
          200,
          350,
          200,
          200,
          200,
          200,
          200,
          200,
          500,
          0,
          750,
          0,
          0,
          0,
          750,
          2500,
          0,
          0,
          0,
          0,
          0,
          5000,
          0,
          0,
          0,
          0,
          0,
          950,
          0,
          0,
          750,
          0,
          0,
          0,
          0,
          0.01,
          750,
          1000,
          1250,
          0,
          0,
          0,
          750,
          750,
          750,
          0,
          0,
          750,
          750,
          750,
          750,
          750,
          750,
          500,
          500,
          500,
          1250,
          1000,
          1000,
          1000,
          150,
          150,
          150,
          150,
          150,
          150,
          150,
          150,
          150,
          150,
          150,
          150,
          150,
          150,
          150,
          150,
          150,
          150,
          150,
          150,
          150,
          150,
          500,
          1250,
          500,
          1000,
          750,
          1000,
          2500,
          1250,
          1000,
          500,
          1000,
          2500,
          1250,
          1000,
          1250,
          500,
          1000,
          750,
          500,
          550,
          50,
          800,
          50,
          50,
          50,
          800,
          2550,
          50,
          50,
          50,
          50,
          5050,
          50,
          50,
          50,
          50,
          50,
          1000,
          50,
          50,
          800,
          50,
          50,
          50,
          50,
          50,
          800,
          1050,
          1300,
          50,
          50,
          50,
          50,
          800,
          800,
          50,
          50,
          50,
          800,
          800,
          800,
          800,
          800,
          550,
          550,
          550,
          1300,
          1050,
          1050,
          1050,
          200,
          200,
          200,
          200,
          200,
          200,
          200,
          200,
          200,
          200,
          200,
          200,
          200,
          200,
          200,
          200,
          200,
          200,
          200,
          200,
          200,
          200,
          550,
          1300,
          550,
          1050,
          800,
          1050,
          2550,
          1300,
          1050,
          550,
          1050,
          2550,
          1300,
          1050,
          1300,
          550,
          1050,
          800,
          550,
          550,
          550,
          50,
          800,
          50,
          50,
          50,
          800,
          2550,
          50,
          150,
          50,
          50,
          5050,
          50,
          50,
          50,
          50,
          50,
          1000,
          50,
          50,
          800,
          50,
          50,
          50,
          50,
          50,
          800,
          500,
          1300,
          50,
          50,
          50,
          50,
          650,
          800,
          50,
          50,
          50,
          650,
          800,
          800,
          650,
          800,
          550,
          550,
          550,
          1300,
          1050,
          1050,
          1050,
          200,
          200,
          200,
          350,
          200,
          200,
          200,
          350,
          150,
          350,
          200,
          200,
          150,
          200,
          150,
          200,
          200,
          200,
          200,
          200,
          200,
          550,
          1300,
          550,
          1050,
          800,
          1050,
          2550,
          1300,
          1050,
          550,
          1050,
          2550,
          1300,
          1050,
          1300,
          550,
          1050,
          800,
          550
         ],
         "y0": " ",
         "yaxis": "y"
        }
       ],
       "layout": {
        "boxmode": "group",
        "legend": {
         "tracegroupgap": 0
        },
        "margin": {
         "t": 60
        },
        "template": {
         "data": {
          "bar": [
           {
            "error_x": {
             "color": "#2a3f5f"
            },
            "error_y": {
             "color": "#2a3f5f"
            },
            "marker": {
             "line": {
              "color": "#E5ECF6",
              "width": 0.5
             },
             "pattern": {
              "fillmode": "overlay",
              "size": 10,
              "solidity": 0.2
             }
            },
            "type": "bar"
           }
          ],
          "barpolar": [
           {
            "marker": {
             "line": {
              "color": "#E5ECF6",
              "width": 0.5
             },
             "pattern": {
              "fillmode": "overlay",
              "size": 10,
              "solidity": 0.2
             }
            },
            "type": "barpolar"
           }
          ],
          "carpet": [
           {
            "aaxis": {
             "endlinecolor": "#2a3f5f",
             "gridcolor": "white",
             "linecolor": "white",
             "minorgridcolor": "white",
             "startlinecolor": "#2a3f5f"
            },
            "baxis": {
             "endlinecolor": "#2a3f5f",
             "gridcolor": "white",
             "linecolor": "white",
             "minorgridcolor": "white",
             "startlinecolor": "#2a3f5f"
            },
            "type": "carpet"
           }
          ],
          "choropleth": [
           {
            "colorbar": {
             "outlinewidth": 0,
             "ticks": ""
            },
            "type": "choropleth"
           }
          ],
          "contour": [
           {
            "colorbar": {
             "outlinewidth": 0,
             "ticks": ""
            },
            "colorscale": [
             [
              0,
              "#0d0887"
             ],
             [
              0.1111111111111111,
              "#46039f"
             ],
             [
              0.2222222222222222,
              "#7201a8"
             ],
             [
              0.3333333333333333,
              "#9c179e"
             ],
             [
              0.4444444444444444,
              "#bd3786"
             ],
             [
              0.5555555555555556,
              "#d8576b"
             ],
             [
              0.6666666666666666,
              "#ed7953"
             ],
             [
              0.7777777777777778,
              "#fb9f3a"
             ],
             [
              0.8888888888888888,
              "#fdca26"
             ],
             [
              1,
              "#f0f921"
             ]
            ],
            "type": "contour"
           }
          ],
          "contourcarpet": [
           {
            "colorbar": {
             "outlinewidth": 0,
             "ticks": ""
            },
            "type": "contourcarpet"
           }
          ],
          "heatmap": [
           {
            "colorbar": {
             "outlinewidth": 0,
             "ticks": ""
            },
            "colorscale": [
             [
              0,
              "#0d0887"
             ],
             [
              0.1111111111111111,
              "#46039f"
             ],
             [
              0.2222222222222222,
              "#7201a8"
             ],
             [
              0.3333333333333333,
              "#9c179e"
             ],
             [
              0.4444444444444444,
              "#bd3786"
             ],
             [
              0.5555555555555556,
              "#d8576b"
             ],
             [
              0.6666666666666666,
              "#ed7953"
             ],
             [
              0.7777777777777778,
              "#fb9f3a"
             ],
             [
              0.8888888888888888,
              "#fdca26"
             ],
             [
              1,
              "#f0f921"
             ]
            ],
            "type": "heatmap"
           }
          ],
          "heatmapgl": [
           {
            "colorbar": {
             "outlinewidth": 0,
             "ticks": ""
            },
            "colorscale": [
             [
              0,
              "#0d0887"
             ],
             [
              0.1111111111111111,
              "#46039f"
             ],
             [
              0.2222222222222222,
              "#7201a8"
             ],
             [
              0.3333333333333333,
              "#9c179e"
             ],
             [
              0.4444444444444444,
              "#bd3786"
             ],
             [
              0.5555555555555556,
              "#d8576b"
             ],
             [
              0.6666666666666666,
              "#ed7953"
             ],
             [
              0.7777777777777778,
              "#fb9f3a"
             ],
             [
              0.8888888888888888,
              "#fdca26"
             ],
             [
              1,
              "#f0f921"
             ]
            ],
            "type": "heatmapgl"
           }
          ],
          "histogram": [
           {
            "marker": {
             "pattern": {
              "fillmode": "overlay",
              "size": 10,
              "solidity": 0.2
             }
            },
            "type": "histogram"
           }
          ],
          "histogram2d": [
           {
            "colorbar": {
             "outlinewidth": 0,
             "ticks": ""
            },
            "colorscale": [
             [
              0,
              "#0d0887"
             ],
             [
              0.1111111111111111,
              "#46039f"
             ],
             [
              0.2222222222222222,
              "#7201a8"
             ],
             [
              0.3333333333333333,
              "#9c179e"
             ],
             [
              0.4444444444444444,
              "#bd3786"
             ],
             [
              0.5555555555555556,
              "#d8576b"
             ],
             [
              0.6666666666666666,
              "#ed7953"
             ],
             [
              0.7777777777777778,
              "#fb9f3a"
             ],
             [
              0.8888888888888888,
              "#fdca26"
             ],
             [
              1,
              "#f0f921"
             ]
            ],
            "type": "histogram2d"
           }
          ],
          "histogram2dcontour": [
           {
            "colorbar": {
             "outlinewidth": 0,
             "ticks": ""
            },
            "colorscale": [
             [
              0,
              "#0d0887"
             ],
             [
              0.1111111111111111,
              "#46039f"
             ],
             [
              0.2222222222222222,
              "#7201a8"
             ],
             [
              0.3333333333333333,
              "#9c179e"
             ],
             [
              0.4444444444444444,
              "#bd3786"
             ],
             [
              0.5555555555555556,
              "#d8576b"
             ],
             [
              0.6666666666666666,
              "#ed7953"
             ],
             [
              0.7777777777777778,
              "#fb9f3a"
             ],
             [
              0.8888888888888888,
              "#fdca26"
             ],
             [
              1,
              "#f0f921"
             ]
            ],
            "type": "histogram2dcontour"
           }
          ],
          "mesh3d": [
           {
            "colorbar": {
             "outlinewidth": 0,
             "ticks": ""
            },
            "type": "mesh3d"
           }
          ],
          "parcoords": [
           {
            "line": {
             "colorbar": {
              "outlinewidth": 0,
              "ticks": ""
             }
            },
            "type": "parcoords"
           }
          ],
          "pie": [
           {
            "automargin": true,
            "type": "pie"
           }
          ],
          "scatter": [
           {
            "fillpattern": {
             "fillmode": "overlay",
             "size": 10,
             "solidity": 0.2
            },
            "type": "scatter"
           }
          ],
          "scatter3d": [
           {
            "line": {
             "colorbar": {
              "outlinewidth": 0,
              "ticks": ""
             }
            },
            "marker": {
             "colorbar": {
              "outlinewidth": 0,
              "ticks": ""
             }
            },
            "type": "scatter3d"
           }
          ],
          "scattercarpet": [
           {
            "marker": {
             "colorbar": {
              "outlinewidth": 0,
              "ticks": ""
             }
            },
            "type": "scattercarpet"
           }
          ],
          "scattergeo": [
           {
            "marker": {
             "colorbar": {
              "outlinewidth": 0,
              "ticks": ""
             }
            },
            "type": "scattergeo"
           }
          ],
          "scattergl": [
           {
            "marker": {
             "colorbar": {
              "outlinewidth": 0,
              "ticks": ""
             }
            },
            "type": "scattergl"
           }
          ],
          "scattermapbox": [
           {
            "marker": {
             "colorbar": {
              "outlinewidth": 0,
              "ticks": ""
             }
            },
            "type": "scattermapbox"
           }
          ],
          "scatterpolar": [
           {
            "marker": {
             "colorbar": {
              "outlinewidth": 0,
              "ticks": ""
             }
            },
            "type": "scatterpolar"
           }
          ],
          "scatterpolargl": [
           {
            "marker": {
             "colorbar": {
              "outlinewidth": 0,
              "ticks": ""
             }
            },
            "type": "scatterpolargl"
           }
          ],
          "scatterternary": [
           {
            "marker": {
             "colorbar": {
              "outlinewidth": 0,
              "ticks": ""
             }
            },
            "type": "scatterternary"
           }
          ],
          "surface": [
           {
            "colorbar": {
             "outlinewidth": 0,
             "ticks": ""
            },
            "colorscale": [
             [
              0,
              "#0d0887"
             ],
             [
              0.1111111111111111,
              "#46039f"
             ],
             [
              0.2222222222222222,
              "#7201a8"
             ],
             [
              0.3333333333333333,
              "#9c179e"
             ],
             [
              0.4444444444444444,
              "#bd3786"
             ],
             [
              0.5555555555555556,
              "#d8576b"
             ],
             [
              0.6666666666666666,
              "#ed7953"
             ],
             [
              0.7777777777777778,
              "#fb9f3a"
             ],
             [
              0.8888888888888888,
              "#fdca26"
             ],
             [
              1,
              "#f0f921"
             ]
            ],
            "type": "surface"
           }
          ],
          "table": [
           {
            "cells": {
             "fill": {
              "color": "#EBF0F8"
             },
             "line": {
              "color": "white"
             }
            },
            "header": {
             "fill": {
              "color": "#C8D4E3"
             },
             "line": {
              "color": "white"
             }
            },
            "type": "table"
           }
          ]
         },
         "layout": {
          "annotationdefaults": {
           "arrowcolor": "#2a3f5f",
           "arrowhead": 0,
           "arrowwidth": 1
          },
          "autotypenumbers": "strict",
          "coloraxis": {
           "colorbar": {
            "outlinewidth": 0,
            "ticks": ""
           }
          },
          "colorscale": {
           "diverging": [
            [
             0,
             "#8e0152"
            ],
            [
             0.1,
             "#c51b7d"
            ],
            [
             0.2,
             "#de77ae"
            ],
            [
             0.3,
             "#f1b6da"
            ],
            [
             0.4,
             "#fde0ef"
            ],
            [
             0.5,
             "#f7f7f7"
            ],
            [
             0.6,
             "#e6f5d0"
            ],
            [
             0.7,
             "#b8e186"
            ],
            [
             0.8,
             "#7fbc41"
            ],
            [
             0.9,
             "#4d9221"
            ],
            [
             1,
             "#276419"
            ]
           ],
           "sequential": [
            [
             0,
             "#0d0887"
            ],
            [
             0.1111111111111111,
             "#46039f"
            ],
            [
             0.2222222222222222,
             "#7201a8"
            ],
            [
             0.3333333333333333,
             "#9c179e"
            ],
            [
             0.4444444444444444,
             "#bd3786"
            ],
            [
             0.5555555555555556,
             "#d8576b"
            ],
            [
             0.6666666666666666,
             "#ed7953"
            ],
            [
             0.7777777777777778,
             "#fb9f3a"
            ],
            [
             0.8888888888888888,
             "#fdca26"
            ],
            [
             1,
             "#f0f921"
            ]
           ],
           "sequentialminus": [
            [
             0,
             "#0d0887"
            ],
            [
             0.1111111111111111,
             "#46039f"
            ],
            [
             0.2222222222222222,
             "#7201a8"
            ],
            [
             0.3333333333333333,
             "#9c179e"
            ],
            [
             0.4444444444444444,
             "#bd3786"
            ],
            [
             0.5555555555555556,
             "#d8576b"
            ],
            [
             0.6666666666666666,
             "#ed7953"
            ],
            [
             0.7777777777777778,
             "#fb9f3a"
            ],
            [
             0.8888888888888888,
             "#fdca26"
            ],
            [
             1,
             "#f0f921"
            ]
           ]
          },
          "colorway": [
           "#636efa",
           "#EF553B",
           "#00cc96",
           "#ab63fa",
           "#FFA15A",
           "#19d3f3",
           "#FF6692",
           "#B6E880",
           "#FF97FF",
           "#FECB52"
          ],
          "font": {
           "color": "#2a3f5f"
          },
          "geo": {
           "bgcolor": "white",
           "lakecolor": "white",
           "landcolor": "#E5ECF6",
           "showlakes": true,
           "showland": true,
           "subunitcolor": "white"
          },
          "hoverlabel": {
           "align": "left"
          },
          "hovermode": "closest",
          "mapbox": {
           "style": "light"
          },
          "paper_bgcolor": "white",
          "plot_bgcolor": "#E5ECF6",
          "polar": {
           "angularaxis": {
            "gridcolor": "white",
            "linecolor": "white",
            "ticks": ""
           },
           "bgcolor": "#E5ECF6",
           "radialaxis": {
            "gridcolor": "white",
            "linecolor": "white",
            "ticks": ""
           }
          },
          "scene": {
           "xaxis": {
            "backgroundcolor": "#E5ECF6",
            "gridcolor": "white",
            "gridwidth": 2,
            "linecolor": "white",
            "showbackground": true,
            "ticks": "",
            "zerolinecolor": "white"
           },
           "yaxis": {
            "backgroundcolor": "#E5ECF6",
            "gridcolor": "white",
            "gridwidth": 2,
            "linecolor": "white",
            "showbackground": true,
            "ticks": "",
            "zerolinecolor": "white"
           },
           "zaxis": {
            "backgroundcolor": "#E5ECF6",
            "gridcolor": "white",
            "gridwidth": 2,
            "linecolor": "white",
            "showbackground": true,
            "ticks": "",
            "zerolinecolor": "white"
           }
          },
          "shapedefaults": {
           "line": {
            "color": "#2a3f5f"
           }
          },
          "ternary": {
           "aaxis": {
            "gridcolor": "white",
            "linecolor": "white",
            "ticks": ""
           },
           "baxis": {
            "gridcolor": "white",
            "linecolor": "white",
            "ticks": ""
           },
           "bgcolor": "#E5ECF6",
           "caxis": {
            "gridcolor": "white",
            "linecolor": "white",
            "ticks": ""
           }
          },
          "title": {
           "x": 0.05
          },
          "xaxis": {
           "automargin": true,
           "gridcolor": "white",
           "linecolor": "white",
           "ticks": "",
           "title": {
            "standoff": 15
           },
           "zerolinecolor": "white",
           "zerolinewidth": 2
          },
          "yaxis": {
           "automargin": true,
           "gridcolor": "white",
           "linecolor": "white",
           "ticks": "",
           "title": {
            "standoff": 15
           },
           "zerolinecolor": "white",
           "zerolinewidth": 2
          }
         }
        },
        "title": {
         "text": "TotalDiscount and ClientName"
        },
        "xaxis": {
         "anchor": "y",
         "domain": [
          0,
          1
         ],
         "title": {
          "text": "ClientName"
         }
        },
        "yaxis": {
         "anchor": "x",
         "domain": [
          0,
          1
         ],
         "title": {
          "text": "TotalDiscount"
         }
        }
       }
      },
      "text/html": [
       "<div>                            <div id=\"ce047449-485b-45f8-856d-91cc50686ab9\" class=\"plotly-graph-div\" style=\"height:525px; width:100%;\"></div>            <script type=\"text/javascript\">                require([\"plotly\"], function(Plotly) {                    window.PLOTLYENV=window.PLOTLYENV || {};                                    if (document.getElementById(\"ce047449-485b-45f8-856d-91cc50686ab9\")) {                    Plotly.newPlot(                        \"ce047449-485b-45f8-856d-91cc50686ab9\",                        [{\"alignmentgroup\":\"True\",\"hovertemplate\":\"ClientName=%{x}<br>TotalDiscount=%{y}<extra></extra>\",\"legendgroup\":\"\",\"marker\":{\"color\":\"midnightblue\",\"line\":{\"color\":\"rgb(8,48,107)\",\"width\":1.5}},\"name\":\"\",\"notched\":false,\"offsetgroup\":\"\",\"orientation\":\"v\",\"showlegend\":false,\"x\":[\"Cut'n'Shut\",\"Rocky Riding\",\"Rocky Riding\",\"Voitures Diplomatiques S.A.\",\"Les Arnaqueurs\",\"Bright Orange\",\"Honest John\",\"Wheels'R'Us\",\"Honest John\",\"Bright Orange\",\"Cut'n'Shut\",\"Wheels'R'Us\",\"Crippen & Co\",\"Voitures Diplomatiques S.A.\",\"Rocky Riding\",\"Crippen & Co\",\"Les Arnaqueurs\",\"Wheels'R'Us\",\"Wheels'R'Us\",\"Voitures Diplomatiques S.A.\",\"Rocky Riding\",\"Les Arnaqueurs\",\"Aldo Motors\",\"Honest John\",\"Bright Orange\",\"Cut'n'Shut\",\"Wheels'R'Us\",\"Les Arnaqueurs\",\"Crippen & Co\",\"Rocky Riding\",\"Aldo Motors\",\"Rocky Riding\",\"Rocky Riding\",\"Voitures Diplomatiques S.A.\",\"Les Arnaqueurs\",\"Bright Orange\",\"Honest John\",\"Wheels'R'Us\",\"Cut'n'Shut\",\"Bright Orange\",\"Cut'n'Shut\",\"Wheels'R'Us\",\"Crippen & Co\",\"Voitures Diplomatiques S.A.\",\"Rocky Riding\",\"Crippen & Co\",\"Les Arnaqueurs\",\"Wheels'R'Us\",\"Wheels'R'Us\",\"Cut'n'Shut\",\"Rocky Riding\",\"Les Arnaqueurs\",\"Aldo Motors\",\"Honest John\",\"Bright Orange\",\"Cut'n'Shut\",\"Wheels'R'Us\",\"Les Arnaqueurs\",\"Crippen & Co\",\"Rocky Riding\",\"Aldo Motors\",\"Honest John\",\"Ambassador Cars\",\"Ambassador Cars\",\"Ambassador Cars\",\"Ambassador Cars\",\"Style \\u0091N Ride\",\"Sporty Types Corp\",\"BritWheels\",\"Sporty Types Corp\",\"Style \\u0091N Ride\",\"BritWheels\",\"Sporty Types Corp\",\"Union Jack Sports Cars\",\"British Luxury Automobile Corp\",\"Buckingham Palace Car Services\",\"Union Jack Sports Cars\",\"Tweedy Wheels\",\"Sporty Types Corp\",\"Sporty Types Corp\",\"BritWheels\",\"Buckingham Palace Car Services\",\"Tweedy Wheels\",\"Ambassador Cars\",\"Embassy Motors\",\"Style \\u0091N Ride\",\"BritWheels\",\"Sporty Types Corp\",\"Tweedy Wheels\",\"Union Jack Sports Cars\",\"Buckingham Palace Car Services\",\"Ambassador Cars\",\"Embassy Motors\",\"Aldo Motors\",\"Aldo Motors\",\"Honest John\",\"Bright Orange\",\"Costa Del Speed\",\"Karz\",\"Costa Del Speed\",\"Karz\",\"Voitures Diplomatiques S.A.\",\"Rocky Riding\",\"Honest John\",\"Les Arnaqueurs\",\"Wheels'R'Us\",\"Rocky Riding\",\"Wheels'R'Us\",\"Bright Orange\",\"Smooth Riders\",\"Luxury Rentals\",\"Bright Orange\",\"Cut'n'Shut\",\"Wheels'R'Us\",\"Bright Orange\",\"Honest John\",\"Honest John\",\"Bright Orange\",\"Honest John\",\"Impressive Wheels\",\"Bright Orange\",\"Cut'n'Shut\",\"Olde Englande\",\"Aldo Motors\",\"Honest John\",\"Bright Orange\",\"Bright Orange\",\"Karz\",\"Costa Del Speed\",\"Karz\",\"Voitures Diplomatiques S.A.\",\"Rocky Riding\",\"Honest John\",\"Les Arnaqueurs\",\"Wheels'R'Us\",\"Rocky Riding\",\"Wheels'R'Us\",\"Bright Orange\",\"Olde Englande\",\"Luxury Rentals\",\"Premium Motor Vehicles\",\"Cut'n'Shut\",\"Wheels'R'Us\",\"Olde Englande\",\"Honest John\",\"Aldo Motors\",\"Bright Orange\",\"Aldo Motors\",\"Impressive Wheels\",\"Bright Orange\",\"Costa Del Speed\",\"Wheels'R'Us\",\"Impressive Wheels\",\"Ambassador Cars\",\"Embassy Motors\",\"Style \\u0091N Ride\",\"Ambassador Cars\",\"Classy Car Sales\",\"Classy Car Sales\",\"British Luxury Automobile Corp\",\"Buckingham Palace Car Services\",\"Embassy Motors\",\"Tweedy Wheels\",\"Sporty Types Corp\",\"Buckingham Palace Car Services\",\"Sporty Types Corp\",\"Style \\u0091N Ride\",\"BritWheels\",\"BritWheels\",\"BritWheels\",\"BritWheels\",\"Sporty Types Corp\",\"British Luxury Automobile Corp\",\"Embassy Motors\",\"Ambassador Cars\",\"Style \\u0091N Ride\",\"Ambassador Cars\",\"Style \\u0091N Ride\",\"Sporty Types Corp\",\"Ambassador Cars\",\"Aldo Motors\",\"Honest John\",\"Bright Orange\",\"Honest John\",\"Wheels'R'Us\",\"Cut'n'Shut\",\"Bright Orange\",\"Les Arnaqueurs\",\"Aldo Motors\",\"Aldo Motors\",\"Aldo Motors\",\"Les Arnaqueurs\",\"Wheels'R'Us\",\"Bright Orange\",\"Cut'n'Shut\",\"Les Arnaqueurs\",\"Wheels'R'Us\",\"Cut'n'Shut\",\"Bright Orange\",\"Honest John\",\"Bright Orange\",\"Wheels'R'Us\",\"Cut'n'Shut\",\"Wheels'R'Us\",\"Wheels'R'Us\",\"Cut'n'Shut\",\"Cut'n'Shut\",\"Bright Orange\",\"Honest John\",\"Aldo Motors\",\"Aldo Motors\",\"Honest John\",\"Bright Orange\",\"Wheels'R'Us\",\"Cut'n'Shut\",\"Rocky Riding\",\"Voitures Diplomatiques S.A.\",\"Aldo Motors\",\"Aldo Motors\",\"Cut'n'Shut\",\"Cut'n'Shut\",\"Bright Orange\",\"Bright Orange\",\"Honest John\",\"Honest John\",\"Aldo Motors\",\"Aldo Motors\",\"Honest John\",\"Les Arnaqueurs\",\"Wheels'R'Us\",\"Honest John\",\"Aldo Motors\",\"Olde Englande\",\"Impressive Wheels\",\"Olde Englande\",\"Premium Motor Vehicles\",\"Luxury Rentals\",\"Aldo Motors\",\"Honest John\",\"Honest John\",\"Olde Englande\",\"Wheels'R'Us\",\"Wheels'R'Us\",\"Cut'n'Shut\",\"Cut'n'Shut\",\"Aldo Motors\",\"Aldo Motors\",\"Luxury Rentals\",\"Smooth Riders\",\"Costa Del Speed\",\"Wheels'R'Us\",\"Impressive Wheels\",\"Cut'n'Shut\",\"Bright Orange\",\"Chateau Moi\",\"Vive la Vitesse!\",\"Carosse Des Papes\",\"Three Country Cars\",\"Jungfrau\",\"Chateau Moi\",\"Vive la Vitesse!\",\"Carosse Des Papes\",\"Three Country Cars\",\"Jungfrau\",\"Chateau Moi\",\"Vive la Vitesse!\",\"Carosse Des Papes\",\"Three Country Cars\",\"Jungfrau\",\"Jungfrau\",\"Vive la Vitesse!\",\"Jungfrau\",\"Carosse Des Papes\",\"Aldo Motors\",\"Honest John\",\"Bright Orange\",\"Honest John\",\"Wheels'R'Us\",\"Cut'n'Shut\",\"Bright Orange\",\"Les Arnaqueurs\",\"Aldo Motors\",\"Aldo Motors\",\"Les Arnaqueurs\",\"Wheels'R'Us\",\"Bright Orange\",\"Cut'n'Shut\",\"Les Arnaqueurs\",\"Wheels'R'Us\",\"Cut'n'Shut\",\"Bright Orange\",\"Honest John\",\"Aldo Motors\",\"Wheels'R'Us\",\"Cut'n'Shut\",\"Wheels'R'Us\",\"Wheels'R'Us\",\"Cut'n'Shut\",\"Cut'n'Shut\",\"Bright Orange\",\"Honest John\",\"Aldo Motors\",\"Aldo Motors\",\"Honest John\",\"Bright Orange\",\"Wheels'R'Us\",\"Cut'n'Shut\",\"Rocky Riding\",\"Voitures Diplomatiques S.A.\",\"Aldo Motors\",\"Aldo Motors\",\"Honest John\",\"Cut'n'Shut\",\"Bright Orange\",\"Bright Orange\",\"Honest John\",\"Honest John\",\"Aldo Motors\",\"Aldo Motors\",\"Voitures Diplomatiques S.A.\",\"Les Arnaqueurs\",\"Wheels'R'Us\",\"Honest John\",\"Aldo Motors\",\"Costa Del Speed\",\"Impressive Wheels\",\"Olde Englande\",\"Smooth Riders\",\"Luxury Rentals\",\"Aldo Motors\",\"Honest John\",\"Honest John\",\"Bright Orange\",\"Wheels'R'Us\",\"Wheels'R'Us\",\"Cut'n'Shut\",\"Cut'n'Shut\",\"Bright Orange\",\"Honest John\",\"Luxury Rentals\",\"Smooth Riders\",\"Honest John\",\"Cut'n'Shut\",\"Olde Englande\",\"Cut'n'Shut\",\"Bright Orange\",\"Chateau Moi\",\"Vive la Vitesse!\",\"Carosse Des Papes\",\"Three Country Cars\",\"Jungfrau\",\"Chateau Moi\",\"Vive la Vitesse!\",\"Carosse Des Papes\",\"Three Country Cars\",\"Jungfrau\",\"Chateau Moi\",\"Vive la Vitesse!\",\"Carosse Des Papes\",\"Three Country Cars\",\"Jungfrau\",\"Jungfrau\",\"Vive la Vitesse!\",\"Jungfrau\",\"Carosse Des Papes\",\"Ambassador Cars\",\"Ambassador Cars\",\"Embassy Motors\",\"Style \\u0091N Ride\",\"Embassy Motors\",\"Sporty Types Corp\",\"BritWheels\",\"Style \\u0091N Ride\",\"Tweedy Wheels\",\"Ambassador Cars\",\"Ambassador Cars\",\"Tweedy Wheels\",\"Sporty Types Corp\",\"Style \\u0091N Ride\",\"BritWheels\",\"Tweedy Wheels\",\"Sporty Types Corp\",\"BritWheels\",\"Style \\u0091N Ride\",\"Embassy Motors\",\"Ambassador Cars\",\"Sporty Types Corp\",\"BritWheels\",\"Sporty Types Corp\",\"Sporty Types Corp\",\"BritWheels\",\"BritWheels\",\"Style \\u0091N Ride\",\"Embassy Motors\",\"Style \\u0091N Ride\",\"Sporty Types Corp\",\"BritWheels\",\"Sporty Types Corp\",\"Sporty Types Corp\",\"BritWheels\",\"Sporty Types Corp\",\"BritWheels\",\"BritWheels\",\"Ambassador Cars\",\"Embassy Motors\",\"BritWheels\",\"Style \\u0091N Ride\",\"Style \\u0091N Ride\",\"Embassy Motors\",\"Embassy Motors\",\"Ambassador Cars\",\"Ambassador Cars\",\"British Luxury Automobile Corp\",\"Tweedy Wheels\",\"Sporty Types Corp\",\"Embassy Motors\",\"Ambassador Cars\",\"BritWheels\",\"BritWheels\",\"BritWheels\",\"BritWheels\",\"Ambassador Cars\",\"Embassy Motors\",\"Embassy Motors\",\"Style \\u0091N Ride\",\"Sporty Types Corp\",\"Sporty Types Corp\",\"BritWheels\",\"BritWheels\",\"Style \\u0091N Ride\",\"Embassy Motors\",\"Union Jack Sports Cars\",\"Union Jack Sports Cars\",\"Embassy Motors\",\"BritWheels\",\"Style \\u0091N Ride\",\"Classy Car Sales\",\"British Luxury Automobile Corp\",\"Embassy Motors\",\"BritWheels\",\"Style \\u0091N Ride\",\"Classy Car Sales\",\"Style \\u0091N Ride\",\"Style \\u0091N Ride\",\"Style \\u0091N Ride\",\"Style \\u0091N Ride\",\"Ambassador Cars\",\"Tweedy Wheels\",\"Embassy Motors\",\"Union Jack Sports Cars\",\"Style \\u0091N Ride\",\"Sporty Types Corp\",\"Buckingham Palace Car Services\",\"British Luxury Automobile Corp\",\"Classy Car Sales\",\"Ambassador Cars\",\"Embassy Motors\"],\"x0\":\" \",\"xaxis\":\"x\",\"y\":[0.0,500.0,500.0,500.0,500.0,500.0,500.0,500.0,0.0,0.0,750.0,750.0,750.0,500.0,500.0,500.0,500.0,750.0,750.0,500.0,500.0,500.0,500.0,500.0,500.0,500.0,500.0,500.0,500.0,500.0,500.0,550.0,550.0,550.0,550.0,550.0,550.0,550.0,800.0,50.0,800.0,800.0,800.0,550.0,550.0,550.0,550.0,800.0,800.0,800.0,550.0,550.0,550.0,550.0,550.0,550.0,550.0,550.0,550.0,550.0,550.0,550.0,550.0,550.0,50.0,50.0,50.0,550.0,550.0,800.0,50.0,800.0,650.0,650.0,550.0,550.0,550.0,550.0,650.0,800.0,800.0,550.0,550.0,550.0,550.0,400.0,550.0,400.0,550.0,550.0,400.0,550.0,550.0,0.0,1750.0,0.0,0.0,150.0,150.0,150.0,150.0,150.0,150.0,150.0,150.0,150.0,150.0,150.0,150.0,150.0,150.0,150.0,150.0,150.0,150.0,150.0,150.0,150.0,150.0,150.0,150.0,150.0,150.0,1800.0,50.0,50.0,50.01,200.0,200.0,200.0,200.0,200.0,200.0,200.0,200.0,200.0,200.0,200.0,200.0,200.0,200.0,200.0,200.0,200.0,200.0,200.0,200.0,200.0,200.0,200.0,200.0,200.0,200.0,1800.0,50.0,50.0,45.0,200.0,200.0,200.0,350.0,200.0,200.0,200.0,350.0,200.0,350.0,200.0,200.0,200.0,200.0,150.0,200.0,350.0,200.0,200.0,200.0,200.0,200.0,200.0,500.0,0.0,750.0,0.0,0.0,0.0,750.0,2500.0,0.0,0.0,0.0,0.0,0.0,5000.0,0.0,0.0,0.0,0.0,0.0,950.0,0.0,0.0,750.0,0.0,0.0,0.0,0.0,0.01,750.0,1000.0,1250.0,0.0,0.0,0.0,750.0,750.0,750.0,0.0,0.0,750.0,750.0,750.0,750.0,750.0,750.0,500.0,500.0,500.0,1250.0,1000.0,1000.0,1000.0,150.0,150.0,150.0,150.0,150.0,150.0,150.0,150.0,150.0,150.0,150.0,150.0,150.0,150.0,150.0,150.0,150.0,150.0,150.0,150.0,150.0,150.0,500.0,1250.0,500.0,1000.0,750.0,1000.0,2500.0,1250.0,1000.0,500.0,1000.0,2500.0,1250.0,1000.0,1250.0,500.0,1000.0,750.0,500.0,550.0,50.0,800.0,50.0,50.0,50.0,800.0,2550.0,50.0,50.0,50.0,50.0,5050.0,50.0,50.0,50.0,50.0,50.0,1000.0,50.0,50.0,800.0,50.0,50.0,50.0,50.0,50.0,800.0,1050.0,1300.0,50.0,50.0,50.0,50.0,800.0,800.0,50.0,50.0,50.0,800.0,800.0,800.0,800.0,800.0,550.0,550.0,550.0,1300.0,1050.0,1050.0,1050.0,200.0,200.0,200.0,200.0,200.0,200.0,200.0,200.0,200.0,200.0,200.0,200.0,200.0,200.0,200.0,200.0,200.0,200.0,200.0,200.0,200.0,200.0,550.0,1300.0,550.0,1050.0,800.0,1050.0,2550.0,1300.0,1050.0,550.0,1050.0,2550.0,1300.0,1050.0,1300.0,550.0,1050.0,800.0,550.0,550.0,550.0,50.0,800.0,50.0,50.0,50.0,800.0,2550.0,50.0,150.0,50.0,50.0,5050.0,50.0,50.0,50.0,50.0,50.0,1000.0,50.0,50.0,800.0,50.0,50.0,50.0,50.0,50.0,800.0,500.0,1300.0,50.0,50.0,50.0,50.0,650.0,800.0,50.0,50.0,50.0,650.0,800.0,800.0,650.0,800.0,550.0,550.0,550.0,1300.0,1050.0,1050.0,1050.0,200.0,200.0,200.0,350.0,200.0,200.0,200.0,350.0,150.0,350.0,200.0,200.0,150.0,200.0,150.0,200.0,200.0,200.0,200.0,200.0,200.0,550.0,1300.0,550.0,1050.0,800.0,1050.0,2550.0,1300.0,1050.0,550.0,1050.0,2550.0,1300.0,1050.0,1300.0,550.0,1050.0,800.0,550.0],\"y0\":\" \",\"yaxis\":\"y\",\"type\":\"box\"}],                        {\"template\":{\"data\":{\"histogram2dcontour\":[{\"type\":\"histogram2dcontour\",\"colorbar\":{\"outlinewidth\":0,\"ticks\":\"\"},\"colorscale\":[[0.0,\"#0d0887\"],[0.1111111111111111,\"#46039f\"],[0.2222222222222222,\"#7201a8\"],[0.3333333333333333,\"#9c179e\"],[0.4444444444444444,\"#bd3786\"],[0.5555555555555556,\"#d8576b\"],[0.6666666666666666,\"#ed7953\"],[0.7777777777777778,\"#fb9f3a\"],[0.8888888888888888,\"#fdca26\"],[1.0,\"#f0f921\"]]}],\"choropleth\":[{\"type\":\"choropleth\",\"colorbar\":{\"outlinewidth\":0,\"ticks\":\"\"}}],\"histogram2d\":[{\"type\":\"histogram2d\",\"colorbar\":{\"outlinewidth\":0,\"ticks\":\"\"},\"colorscale\":[[0.0,\"#0d0887\"],[0.1111111111111111,\"#46039f\"],[0.2222222222222222,\"#7201a8\"],[0.3333333333333333,\"#9c179e\"],[0.4444444444444444,\"#bd3786\"],[0.5555555555555556,\"#d8576b\"],[0.6666666666666666,\"#ed7953\"],[0.7777777777777778,\"#fb9f3a\"],[0.8888888888888888,\"#fdca26\"],[1.0,\"#f0f921\"]]}],\"heatmap\":[{\"type\":\"heatmap\",\"colorbar\":{\"outlinewidth\":0,\"ticks\":\"\"},\"colorscale\":[[0.0,\"#0d0887\"],[0.1111111111111111,\"#46039f\"],[0.2222222222222222,\"#7201a8\"],[0.3333333333333333,\"#9c179e\"],[0.4444444444444444,\"#bd3786\"],[0.5555555555555556,\"#d8576b\"],[0.6666666666666666,\"#ed7953\"],[0.7777777777777778,\"#fb9f3a\"],[0.8888888888888888,\"#fdca26\"],[1.0,\"#f0f921\"]]}],\"heatmapgl\":[{\"type\":\"heatmapgl\",\"colorbar\":{\"outlinewidth\":0,\"ticks\":\"\"},\"colorscale\":[[0.0,\"#0d0887\"],[0.1111111111111111,\"#46039f\"],[0.2222222222222222,\"#7201a8\"],[0.3333333333333333,\"#9c179e\"],[0.4444444444444444,\"#bd3786\"],[0.5555555555555556,\"#d8576b\"],[0.6666666666666666,\"#ed7953\"],[0.7777777777777778,\"#fb9f3a\"],[0.8888888888888888,\"#fdca26\"],[1.0,\"#f0f921\"]]}],\"contourcarpet\":[{\"type\":\"contourcarpet\",\"colorbar\":{\"outlinewidth\":0,\"ticks\":\"\"}}],\"contour\":[{\"type\":\"contour\",\"colorbar\":{\"outlinewidth\":0,\"ticks\":\"\"},\"colorscale\":[[0.0,\"#0d0887\"],[0.1111111111111111,\"#46039f\"],[0.2222222222222222,\"#7201a8\"],[0.3333333333333333,\"#9c179e\"],[0.4444444444444444,\"#bd3786\"],[0.5555555555555556,\"#d8576b\"],[0.6666666666666666,\"#ed7953\"],[0.7777777777777778,\"#fb9f3a\"],[0.8888888888888888,\"#fdca26\"],[1.0,\"#f0f921\"]]}],\"surface\":[{\"type\":\"surface\",\"colorbar\":{\"outlinewidth\":0,\"ticks\":\"\"},\"colorscale\":[[0.0,\"#0d0887\"],[0.1111111111111111,\"#46039f\"],[0.2222222222222222,\"#7201a8\"],[0.3333333333333333,\"#9c179e\"],[0.4444444444444444,\"#bd3786\"],[0.5555555555555556,\"#d8576b\"],[0.6666666666666666,\"#ed7953\"],[0.7777777777777778,\"#fb9f3a\"],[0.8888888888888888,\"#fdca26\"],[1.0,\"#f0f921\"]]}],\"mesh3d\":[{\"type\":\"mesh3d\",\"colorbar\":{\"outlinewidth\":0,\"ticks\":\"\"}}],\"scatter\":[{\"fillpattern\":{\"fillmode\":\"overlay\",\"size\":10,\"solidity\":0.2},\"type\":\"scatter\"}],\"parcoords\":[{\"type\":\"parcoords\",\"line\":{\"colorbar\":{\"outlinewidth\":0,\"ticks\":\"\"}}}],\"scatterpolargl\":[{\"type\":\"scatterpolargl\",\"marker\":{\"colorbar\":{\"outlinewidth\":0,\"ticks\":\"\"}}}],\"bar\":[{\"error_x\":{\"color\":\"#2a3f5f\"},\"error_y\":{\"color\":\"#2a3f5f\"},\"marker\":{\"line\":{\"color\":\"#E5ECF6\",\"width\":0.5},\"pattern\":{\"fillmode\":\"overlay\",\"size\":10,\"solidity\":0.2}},\"type\":\"bar\"}],\"scattergeo\":[{\"type\":\"scattergeo\",\"marker\":{\"colorbar\":{\"outlinewidth\":0,\"ticks\":\"\"}}}],\"scatterpolar\":[{\"type\":\"scatterpolar\",\"marker\":{\"colorbar\":{\"outlinewidth\":0,\"ticks\":\"\"}}}],\"histogram\":[{\"marker\":{\"pattern\":{\"fillmode\":\"overlay\",\"size\":10,\"solidity\":0.2}},\"type\":\"histogram\"}],\"scattergl\":[{\"type\":\"scattergl\",\"marker\":{\"colorbar\":{\"outlinewidth\":0,\"ticks\":\"\"}}}],\"scatter3d\":[{\"type\":\"scatter3d\",\"line\":{\"colorbar\":{\"outlinewidth\":0,\"ticks\":\"\"}},\"marker\":{\"colorbar\":{\"outlinewidth\":0,\"ticks\":\"\"}}}],\"scattermapbox\":[{\"type\":\"scattermapbox\",\"marker\":{\"colorbar\":{\"outlinewidth\":0,\"ticks\":\"\"}}}],\"scatterternary\":[{\"type\":\"scatterternary\",\"marker\":{\"colorbar\":{\"outlinewidth\":0,\"ticks\":\"\"}}}],\"scattercarpet\":[{\"type\":\"scattercarpet\",\"marker\":{\"colorbar\":{\"outlinewidth\":0,\"ticks\":\"\"}}}],\"carpet\":[{\"aaxis\":{\"endlinecolor\":\"#2a3f5f\",\"gridcolor\":\"white\",\"linecolor\":\"white\",\"minorgridcolor\":\"white\",\"startlinecolor\":\"#2a3f5f\"},\"baxis\":{\"endlinecolor\":\"#2a3f5f\",\"gridcolor\":\"white\",\"linecolor\":\"white\",\"minorgridcolor\":\"white\",\"startlinecolor\":\"#2a3f5f\"},\"type\":\"carpet\"}],\"table\":[{\"cells\":{\"fill\":{\"color\":\"#EBF0F8\"},\"line\":{\"color\":\"white\"}},\"header\":{\"fill\":{\"color\":\"#C8D4E3\"},\"line\":{\"color\":\"white\"}},\"type\":\"table\"}],\"barpolar\":[{\"marker\":{\"line\":{\"color\":\"#E5ECF6\",\"width\":0.5},\"pattern\":{\"fillmode\":\"overlay\",\"size\":10,\"solidity\":0.2}},\"type\":\"barpolar\"}],\"pie\":[{\"automargin\":true,\"type\":\"pie\"}]},\"layout\":{\"autotypenumbers\":\"strict\",\"colorway\":[\"#636efa\",\"#EF553B\",\"#00cc96\",\"#ab63fa\",\"#FFA15A\",\"#19d3f3\",\"#FF6692\",\"#B6E880\",\"#FF97FF\",\"#FECB52\"],\"font\":{\"color\":\"#2a3f5f\"},\"hovermode\":\"closest\",\"hoverlabel\":{\"align\":\"left\"},\"paper_bgcolor\":\"white\",\"plot_bgcolor\":\"#E5ECF6\",\"polar\":{\"bgcolor\":\"#E5ECF6\",\"angularaxis\":{\"gridcolor\":\"white\",\"linecolor\":\"white\",\"ticks\":\"\"},\"radialaxis\":{\"gridcolor\":\"white\",\"linecolor\":\"white\",\"ticks\":\"\"}},\"ternary\":{\"bgcolor\":\"#E5ECF6\",\"aaxis\":{\"gridcolor\":\"white\",\"linecolor\":\"white\",\"ticks\":\"\"},\"baxis\":{\"gridcolor\":\"white\",\"linecolor\":\"white\",\"ticks\":\"\"},\"caxis\":{\"gridcolor\":\"white\",\"linecolor\":\"white\",\"ticks\":\"\"}},\"coloraxis\":{\"colorbar\":{\"outlinewidth\":0,\"ticks\":\"\"}},\"colorscale\":{\"sequential\":[[0.0,\"#0d0887\"],[0.1111111111111111,\"#46039f\"],[0.2222222222222222,\"#7201a8\"],[0.3333333333333333,\"#9c179e\"],[0.4444444444444444,\"#bd3786\"],[0.5555555555555556,\"#d8576b\"],[0.6666666666666666,\"#ed7953\"],[0.7777777777777778,\"#fb9f3a\"],[0.8888888888888888,\"#fdca26\"],[1.0,\"#f0f921\"]],\"sequentialminus\":[[0.0,\"#0d0887\"],[0.1111111111111111,\"#46039f\"],[0.2222222222222222,\"#7201a8\"],[0.3333333333333333,\"#9c179e\"],[0.4444444444444444,\"#bd3786\"],[0.5555555555555556,\"#d8576b\"],[0.6666666666666666,\"#ed7953\"],[0.7777777777777778,\"#fb9f3a\"],[0.8888888888888888,\"#fdca26\"],[1.0,\"#f0f921\"]],\"diverging\":[[0,\"#8e0152\"],[0.1,\"#c51b7d\"],[0.2,\"#de77ae\"],[0.3,\"#f1b6da\"],[0.4,\"#fde0ef\"],[0.5,\"#f7f7f7\"],[0.6,\"#e6f5d0\"],[0.7,\"#b8e186\"],[0.8,\"#7fbc41\"],[0.9,\"#4d9221\"],[1,\"#276419\"]]},\"xaxis\":{\"gridcolor\":\"white\",\"linecolor\":\"white\",\"ticks\":\"\",\"title\":{\"standoff\":15},\"zerolinecolor\":\"white\",\"automargin\":true,\"zerolinewidth\":2},\"yaxis\":{\"gridcolor\":\"white\",\"linecolor\":\"white\",\"ticks\":\"\",\"title\":{\"standoff\":15},\"zerolinecolor\":\"white\",\"automargin\":true,\"zerolinewidth\":2},\"scene\":{\"xaxis\":{\"backgroundcolor\":\"#E5ECF6\",\"gridcolor\":\"white\",\"linecolor\":\"white\",\"showbackground\":true,\"ticks\":\"\",\"zerolinecolor\":\"white\",\"gridwidth\":2},\"yaxis\":{\"backgroundcolor\":\"#E5ECF6\",\"gridcolor\":\"white\",\"linecolor\":\"white\",\"showbackground\":true,\"ticks\":\"\",\"zerolinecolor\":\"white\",\"gridwidth\":2},\"zaxis\":{\"backgroundcolor\":\"#E5ECF6\",\"gridcolor\":\"white\",\"linecolor\":\"white\",\"showbackground\":true,\"ticks\":\"\",\"zerolinecolor\":\"white\",\"gridwidth\":2}},\"shapedefaults\":{\"line\":{\"color\":\"#2a3f5f\"}},\"annotationdefaults\":{\"arrowcolor\":\"#2a3f5f\",\"arrowhead\":0,\"arrowwidth\":1},\"geo\":{\"bgcolor\":\"white\",\"landcolor\":\"#E5ECF6\",\"subunitcolor\":\"white\",\"showland\":true,\"showlakes\":true,\"lakecolor\":\"white\"},\"title\":{\"x\":0.05},\"mapbox\":{\"style\":\"light\"}}},\"xaxis\":{\"anchor\":\"y\",\"domain\":[0.0,1.0],\"title\":{\"text\":\"ClientName\"}},\"yaxis\":{\"anchor\":\"x\",\"domain\":[0.0,1.0],\"title\":{\"text\":\"TotalDiscount\"}},\"legend\":{\"tracegroupgap\":0},\"margin\":{\"t\":60},\"boxmode\":\"group\",\"title\":{\"text\":\"TotalDiscount and ClientName\"}},                        {\"responsive\": true}                    ).then(function(){\n",
       "                            \n",
       "var gd = document.getElementById('ce047449-485b-45f8-856d-91cc50686ab9');\n",
       "var x = new MutationObserver(function (mutations, observer) {{\n",
       "        var display = window.getComputedStyle(gd).display;\n",
       "        if (!display || display === 'none') {{\n",
       "            console.log([gd, 'removed!']);\n",
       "            Plotly.purge(gd);\n",
       "            observer.disconnect();\n",
       "        }}\n",
       "}});\n",
       "\n",
       "// Listen for the removal of the full notebook cells\n",
       "var notebookContainer = gd.closest('#notebook-container');\n",
       "if (notebookContainer) {{\n",
       "    x.observe(notebookContainer, {childList: true});\n",
       "}}\n",
       "\n",
       "// Listen for the clearing of the current output cell\n",
       "var outputEl = gd.closest('.output');\n",
       "if (outputEl) {{\n",
       "    x.observe(outputEl, {childList: true});\n",
       "}}\n",
       "\n",
       "                        })                };                });            </script>        </div>"
      ]
     },
     "metadata": {},
     "output_type": "display_data"
    }
   ],
   "source": [
    "    fig = px.box(df, x='ClientName', y='TotalDiscount')\n",
    "fig.update_traces(marker_color=\"midnightblue\",marker_line_color='rgb(8,48,107)',\n",
    "                  marker_line_width=1.5)\n",
    "fig.update_layout(title_text='TotalDiscount and ClientName')\n",
    "fig.show()"
   ]
  },
  {
   "cell_type": "code",
   "execution_count": 80,
   "id": "02bd298b",
   "metadata": {},
   "outputs": [
    {
     "data": {
      "image/png": "[encoded data removed]",
      "text/plain": [
       "<Figure size 640x480 with 1 Axes>"
      ]
     },
     "metadata": {},
     "output_type": "display_data"
    }
   ],
   "source": [
    "plot = sns.boxplot(x='SalePrice', y=\"Color\", data=df)"
   ]
  }
 ],
 "metadata": {
  "kernelspec": {
   "display_name": "Python 3 (ipykernel)",
   "language": "python",
   "name": "python3"
  },
  "language_info": {
   "codemirror_mode": {
    "name": "ipython",
    "version": 3
   },
   "file_extension": ".py",
   "mimetype": "text/x-python",
   "name": "python",
   "nbconvert_exporter": "python",
   "pygments_lexer": "ipython3",
   "version": "3.9.13"
  }
 },
 "nbformat": 4,
 "nbformat_minor": 5
}
